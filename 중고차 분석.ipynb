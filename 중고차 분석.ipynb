{
 "cells": [
  {
   "cell_type": "markdown",
   "id": "9fa1e46f",
   "metadata": {},
   "source": [
    "# 중고차 가격 예측"
   ]
  },
  {
   "cell_type": "code",
   "execution_count": 23,
   "id": "b0088724",
   "metadata": {},
   "outputs": [],
   "source": [
    "import pandas as pd\n",
    "import numpy as np\n",
    "from sklearn.model_selection import train_test_split \n",
    "\n",
    "import numpy as np\n",
    "import matplotlib.pyplot as plt \n",
    "import pandas as pd \n",
    "from sklearn.model_selection import train_test_split\n",
    "from sklearn.linear_model import LinearRegression\n",
    "# 데이터를 학습용과 테스트용으로 분리\n",
    "from sklearn.model_selection import train_test_split\n",
    "from sklearn.linear_model import LinearRegression\n",
    "# 평균 제곱 오차 계산\n",
    "from sklearn.metrics import mean_squared_error, r2_score\n",
    "import numpy as np\n",
    "import matplotlib.pyplot as plt\n",
    "import pandas as pd \n",
    "from sklearn.ensemble import RandomForestRegressor\n",
    "\n",
    "import matplotlib.pyplot as plt\n",
    "import seaborn as sns\n",
    "import pandas as pd \n",
    "import numpy as np \n",
    "from sklearn.model_selection import train_test_split\n",
    "from sklearn.pipeline import Pipeline\n",
    "from sklearn.preprocessing import PolynomialFeatures\n",
    "from sklearn.linear_model import LinearRegression\n",
    "from sklearn.metrics import mean_squared_error, r2_score\n",
    "import seaborn as sns\n",
    "import matplotlib.pyplot as plt\n",
    "\n",
    "import matplotlib.pyplot as plt\n",
    "import seaborn as sns\n",
    "import matplotlib.font_manager as fm\n",
    "import matplotlib as mpl\n",
    "\n",
    "#폰트 지정\n",
    "from matplotlib import rcParams\n",
    "rcParams['font.family'] = 'Noto Sans KR'\n",
    "rcParams['axes.unicode_minus'] = False\n",
    "\n",
    "# 데이터 불러오기\n",
    "dt = pd.read_csv('data3/Dubizzle_used_car_sales.csv')\n",
    "\n"
   ]
  },
  {
   "cell_type": "code",
   "execution_count": 4,
   "id": "f232474c",
   "metadata": {},
   "outputs": [
    {
     "name": "stdout",
     "output_type": "stream",
     "text": [
      "<class 'pandas.core.frame.DataFrame'>\n",
      "RangeIndex: 9970 entries, 0 to 9969\n",
      "Data columns (total 20 columns):\n",
      " #   Column                Non-Null Count  Dtype  \n",
      "---  ------                --------------  -----  \n",
      " 0   title                 9965 non-null   object \n",
      " 1   price_in_aed          9970 non-null   int64  \n",
      " 2   kilometers            9970 non-null   int64  \n",
      " 3   body_condition        9970 non-null   object \n",
      " 4   mechanical_condition  9970 non-null   object \n",
      " 5   seller_type           9970 non-null   object \n",
      " 6   body_type             9970 non-null   object \n",
      " 7   no_of_cylinders       9889 non-null   object \n",
      " 8   transmission_type     9970 non-null   object \n",
      " 9   regional_specs        9970 non-null   object \n",
      " 10  horsepower            9970 non-null   object \n",
      " 11  fuel_type             9970 non-null   object \n",
      " 12  steering_side         9970 non-null   object \n",
      " 13  year                  9000 non-null   float64\n",
      " 14  color                 9970 non-null   object \n",
      " 15  emirate               9970 non-null   object \n",
      " 16  motors_trim           9942 non-null   object \n",
      " 17  company               9970 non-null   object \n",
      " 18  model                 9970 non-null   object \n",
      " 19  date_posted           9970 non-null   object \n",
      "dtypes: float64(1), int64(2), object(17)\n",
      "memory usage: 1.5+ MB\n"
     ]
    }
   ],
   "source": [
    "dt.info()"
   ]
  },
  {
   "cell_type": "markdown",
   "id": "f3a98029",
   "metadata": {},
   "source": [
    "# 중고차 테이블 컬럼 설명\n",
    "\n",
    "<details>\n",
    "<summary>컬럼 소개 </summary>\n",
    "\n",
    "| 컬럼명                    | 의미                                      |\n",
    "| ---------------------- | --------------------------------------- |\n",
    "| `title`                | 차량 전체 명칭 (제조사 + 모델 + 트림 등)              |\n",
    "| `price_in_aed` **target**   | 차량 가격 (단위: UAE 디르함 AED)                 |\n",
    "| `kilometers`           | 주행 거리 (단위: km)                          |\n",
    "| `body_condition`       | 외관 상태 설명 (예: Perfect inside and out)    |\n",
    "| `mechanical_condition` | 기계적 상태 설명 (예: Perfect inside and out)   |\n",
    "| `seller_type`          | 판매자 유형 (예: Dealer, Owner 등)             |\n",
    "| `body_type`            | 차량 차종 (예: SUV, Sedan 등)                 |\n",
    "| `no_of_cylinders`      | 엔진 실린더 개수                               |\n",
    "| `transmission_type`    | 변속기 종류 (예: Automatic Transmission)      |\n",
    "| `regional_specs`       | 지역 사양 (예: GCC 사양, 미국 사양 등)              |\n",
    "| `horsepower`           | 마력 (예: 400 - 500 HP, 또는 Unknown)        |\n",
    "| `fuel_type`            | 연료 종류 (예: Gasoline, Diesel 등)           |\n",
    "| `steering_side`        | 운전석 위치 (예: Left Hand Side)              |\n",
    "| `year`                 | 차량 연식                                   |\n",
    "| `color`                | 차량 색상                                   |\n",
    "| `emirate`              | 차량이 등록된 아랍에미리트 지역 (예: Dubai, Sharjah 등) |\n",
    "| `motors_trim`          | 트림명 또는 세부 사양 (예: GLS, E 300 등)          |\n",
    "| `company`              | 제조사명 (예: mitsubishi, mercedes-benz 등)   |\n",
    "| `model`                | 차량 모델명 (예: pajero, e-class 등)           |\n",
    "| `date_posted`          | 매물 등록 날짜                                |\n",
    "\n",
    "</details>"
   ]
  },
  {
   "cell_type": "code",
   "execution_count": 8,
   "id": "66c4d3bd",
   "metadata": {},
   "outputs": [
    {
     "data": {
      "text/plain": [
       "['A bit of wear & tear, all repaired',\n",
       " 'No accidents, very few faults',\n",
       " 'Normal wear & tear, a few issues',\n",
       " 'Perfect inside and out']"
      ]
     },
     "execution_count": 8,
     "metadata": {},
     "output_type": "execute_result"
    }
   ],
   "source": [
    "sorted(dt['body_condition'].unique())"
   ]
  },
  {
   "cell_type": "code",
   "execution_count": 9,
   "id": "a5019ecc",
   "metadata": {},
   "outputs": [
    {
     "data": {
      "text/plain": [
       "['Major faults fixed, small remain',\n",
       " 'Major faults, all fixed',\n",
       " 'Minor faults, all fixed',\n",
       " 'Ongoing minor & major faults',\n",
       " 'Perfect inside and out']"
      ]
     },
     "execution_count": 9,
     "metadata": {},
     "output_type": "execute_result"
    }
   ],
   "source": [
    "sorted(dt['mechanical_condition'].unique())"
   ]
  },
  {
   "cell_type": "code",
   "execution_count": 12,
   "id": "05910c56",
   "metadata": {},
   "outputs": [
    {
     "name": "stdout",
     "output_type": "stream",
     "text": [
      "<class 'pandas.core.frame.DataFrame'>\n",
      "RangeIndex: 9970 entries, 0 to 9969\n",
      "Data columns (total 20 columns):\n",
      " #   Column                Non-Null Count  Dtype  \n",
      "---  ------                --------------  -----  \n",
      " 0   title                 9965 non-null   object \n",
      " 1   price_in_aed          9970 non-null   int64  \n",
      " 2   kilometers            9970 non-null   int64  \n",
      " 3   body_condition        9970 non-null   object \n",
      " 4   mechanical_condition  9970 non-null   object \n",
      " 5   seller_type           9970 non-null   object \n",
      " 6   body_type             9970 non-null   object \n",
      " 7   no_of_cylinders       9889 non-null   object \n",
      " 8   transmission_type     9970 non-null   object \n",
      " 9   regional_specs        9970 non-null   object \n",
      " 10  horsepower            9970 non-null   object \n",
      " 11  fuel_type             9970 non-null   object \n",
      " 12  steering_side         9970 non-null   object \n",
      " 13  year                  9000 non-null   float64\n",
      " 14  color                 9970 non-null   object \n",
      " 15  emirate               9970 non-null   object \n",
      " 16  motors_trim           9942 non-null   object \n",
      " 17  company               9970 non-null   object \n",
      " 18  model                 9970 non-null   object \n",
      " 19  date_posted           9970 non-null   object \n",
      "dtypes: float64(1), int64(2), object(17)\n",
      "memory usage: 1.5+ MB\n"
     ]
    }
   ],
   "source": [
    "dt.head(4)\n",
    "dt.info()"
   ]
  },
  {
   "cell_type": "markdown",
   "id": "41e6cdb8",
   "metadata": {},
   "source": [
    "총데이터수 9970\n",
    "\n",
    "**Null 값**    \n",
    "    - 차량 전체 명칭 5개   \n",
    "    - 엔진 실린더 개수 81개   \n",
    "    - 차량연식 970개   \n",
    "    - 트림명 28개   \n",
    " "
   ]
  },
  {
   "cell_type": "markdown",
   "id": "57021878",
   "metadata": {},
   "source": [
    "| 컬럼명                    | 의미                                      |\n",
    "| ---------------------- | --------------------------------------- |\n",
    "| `title` 분류               | 차량 전체 명칭 (제조사 + 모델 + 트림 등)              |\n",
    "| `price_in_aed` **target**   | 차량 가격 (단위: UAE 디르함 AED)                 |\n",
    "| `kilometers` 수치          | 주행 거리 (단위: km)                          |\n",
    "| `body_condition` 인코딩 필요       | 외관 상태 설명 (예: Perfect inside and out)    |\n",
    "| `mechanical_condition` 인코딩 필요 | 기계적 상태 설명 (예: Perfect inside and out)   |\n",
    "| `seller_type` 인코딩 필요         | 판매자 유형 (예: Dealer, Owner 등)             |\n",
    "| `body_type`   인코딩 필요         | 차량 차종 (예: SUV, Sedan 등)                 |\n",
    "| `no_of_cylinders` 수치     | 엔진 실린더 개수                               |\n",
    "| `transmission_type`  인코딩필요  | 변속기 종류 (예: Automatic Transmission)      |\n",
    "| `regional_specs`       | 지역 사양 (예: GCC 사양, 미국 사양 등)              |\n",
    "| `horsepower`           | 마력 (예: 400 - 500 HP, 또는 Unknown)        |\n",
    "| `fuel_type`            | 연료 종류 (예: Gasoline, Diesel 등)           |\n",
    "| `steering_side`    인코딩 필요    | 운전석 위치 (예: Left Hand Side)              |\n",
    "| `year`   수치형              | 차량 연식                                   |\n",
    "| `color`                | 차량 색상                                   |\n",
    "| `emirate`              | 차량이 등록된 아랍에미리트 지역 (예: Dubai, Sharjah 등) |\n",
    "| `motors_trim`          | 트림명 또는 세부 사양 (예: GLS, E 300 등)          |\n",
    "| `company`              | 제조사명 (예: mitsubishi, mercedes-benz 등)   |\n",
    "| `model`                | 차량 모델명 (예: pajero, e-class 등)           |\n",
    "| `date_posted`          | 매물 등록 날짜                                |"
   ]
  },
  {
   "cell_type": "markdown",
   "id": "6a3bd263",
   "metadata": {},
   "source": [
    "# 이상치값 시각화"
   ]
  },
  {
   "cell_type": "code",
   "execution_count": null,
   "id": "d40ce38e",
   "metadata": {},
   "outputs": [],
   "source": [
    "# 시각화할 컬럼 리스트\n",
    "\n",
    "\n",
    "# 컬럼명 -> 한글 제목 매핑\n",
    "col_kor_map = {\n",
    "    'season': '계절',\n",
    "    'holiday': '공휴일 여부',\n",
    "    'workingday': '근무일 여부',\n",
    "    'weather': '날씨 상태',\n",
    "    'temp': '온도',\n",
    "    'atemp': '체감 온도',\n",
    "    'humidity': '습도',\n",
    "    'windspeed': '풍속'\n",
    "}\n",
    "\n",
    "# 그리드 설정\n",
    "n_cols = 4\n",
    "n_rows = (len(li) + n_cols - 1) // n_cols\n",
    "\n",
    "plt.figure(figsize=(20, n_rows * 4))\n",
    "\n",
    "for i, col in enumerate(li, 1):\n",
    "    plt.subplot(n_rows, n_cols, i)\n",
    "    sns.boxplot(y=dt[col])  # 또는 x=dt[col] 으로 방향 변경 가능\n",
    "    plt.title(f'{col_kor_map[col]}', fontsize=12)\n",
    "\n",
    "plt.tight_layout()\n",
    "plt.show()"
   ]
  },
  {
   "cell_type": "code",
   "execution_count": 32,
   "id": "bfa43883",
   "metadata": {},
   "outputs": [],
   "source": [
    "# 수치형 변수만 추출\n",
    "li = dt.select_dtypes(include=['number']).columns.tolist()\n",
    "li\n",
    "\n",
    "li_name = {\n",
    "    'price_in_aed' : '차량가격',\n",
    "    'kilometers' : '주행거리',\n",
    "    'year' : '연식'\n",
    "}"
   ]
  },
  {
   "cell_type": "code",
   "execution_count": 33,
   "id": "f8c096e3",
   "metadata": {},
   "outputs": [
    {
     "data": {
      "image/png": "[encoded data removed]",
      "text/plain": [
       "<Figure size 1200x800 with 3 Axes>"
      ]
     },
     "metadata": {},
     "output_type": "display_data"
    }
   ],
   "source": [
    "plt.figure(figsize=(12,8))\n",
    "\n",
    "for i, col in enumerate(li,1):\n",
    "    plt.subplot(1,3,i)\n",
    "    sns.boxplot(y=dt[col])\n",
    "    plt.title(f'{li_name[col]}',fontsize =12)\n",
    "    \n",
    "plt.tight_layout\n",
    "plt.show()"
   ]
  }
 ],
 "metadata": {
  "kernelspec": {
   "display_name": "hi_ml_env",
   "language": "python",
   "name": "python3"
  },
  "language_info": {
   "codemirror_mode": {
    "name": "ipython",
    "version": 3
   },
   "file_extension": ".py",
   "mimetype": "text/x-python",
   "name": "python",
   "nbconvert_exporter": "python",
   "pygments_lexer": "ipython3",
   "version": "3.10.16"
  }
 },
 "nbformat": 4,
 "nbformat_minor": 5
}
