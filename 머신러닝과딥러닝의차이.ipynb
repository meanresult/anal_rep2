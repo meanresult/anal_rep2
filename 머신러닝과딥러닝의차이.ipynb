{
  "nbformat": 4,
  "nbformat_minor": 0,
  "metadata": {
    "colab": {
      "provenance": [],
      "authorship_tag": "ABX9TyPIhMdrlTAjdxpYah7QWsM7",
      "include_colab_link": true
    },
    "kernelspec": {
      "name": "python3",
      "display_name": "Python 3"
    },
    "language_info": {
      "name": "python"
    }
  },
  "cells": [
    {
      "cell_type": "markdown",
      "metadata": {
        "id": "view-in-github",
        "colab_type": "text"
      },
      "source": [
        "<a href=\"https://colab.research.google.com/github/meanresult/anal_rep2/blob/main/%EB%A8%B8%EC%8B%A0%EB%9F%AC%EB%8B%9D%EA%B3%BC%EB%94%A5%EB%9F%AC%EB%8B%9D%EC%9D%98%EC%B0%A8%EC%9D%B4.ipynb\" target=\"_parent\"><img src=\"https://colab.research.google.com/assets/colab-badge.svg\" alt=\"Open In Colab\"/></a>"
      ]
    },
    {
      "cell_type": "code",
      "execution_count": null,
      "metadata": {
        "colab": {
          "base_uri": "https://localhost:8080/"
        },
        "id": "uXyddnvvFGy1",
        "outputId": "2685db60-7632-449a-cac7-c9c890a5d3c7"
      },
      "outputs": [
        {
          "output_type": "stream",
          "name": "stdout",
          "text": [
            "숫자를 입력하세요:5\n",
            "32\n"
          ]
        }
      ],
      "source": [
        "def my_funtion(x):\n",
        "  return 5*x+7\n",
        "\n",
        "val = int(input('숫자를 입력하세요:'))\n",
        "ret = my_funtion(val)\n",
        "print(ret)"
      ]
    },
    {
      "cell_type": "markdown",
      "source": [
        " # 머신러닝\n",
        "\n",
        " 규칙이 아닌 모델을 선정\n",
        " 모델 : 데이터를 넣어준다 > 학습 fit()\n",
        " 모델 : 값을 넣어 결과를 확인한다 > predict()"
      ],
      "metadata": {
        "id": "nCgV85SDGJ1X"
      }
    },
    {
      "cell_type": "code",
      "source": [
        "import numpy as np\n",
        "import linear_model. as lm"
      ],
      "metadata": {
        "id": "Qt2vijslGja8"
      },
      "execution_count": null,
      "outputs": []
    },
    {
      "cell_type": "code",
      "source": [
        "import numpy\n",
        "from sklearn import linear_model\n",
        "\n",
        "#1. 데이터, 입력 값과 결과 값\n",
        "#입력 값 - 2차원임\n",
        "X_train = numpy.array([1, 2, 3, 4, 5, 6, 7]).reshape(-1,1)\n",
        "\n",
        "#결과 값 - 정답 1차원임, 입력을 넣었을 나올 정답 (5 * x + 7임을 알아차릴까?)\n",
        "y_train = numpy.array([12, 17, 22, 27, 32, 37, 42])\n",
        "\n",
        "#2. 기계학습의 가장 큰 특징 - 어떤 모델을 사용할 것인가 알려줘야 함\n",
        "model = linear_model.LinearRegression()\n",
        "\n",
        "#3. 학습\n",
        "model.fit(X_train, y_train)\n",
        "\n",
        "#4. 예측\n",
        "predict = model.predict([[9]])\n",
        "\n",
        "#예측한 결과 값\n",
        "print(predict)"
      ],
      "metadata": {
        "colab": {
          "base_uri": "https://localhost:8080/"
        },
        "id": "zyg0N4LkF91_",
        "outputId": "16dcd94e-0b7b-40ee-9c34-6d389337e8d1"
      },
      "execution_count": null,
      "outputs": [
        {
          "output_type": "stream",
          "name": "stdout",
          "text": [
            "[52.]\n"
          ]
        }
      ]
    },
    {
      "cell_type": "markdown",
      "source": [
        "# 딥러닝\n",
        "\n",
        "모델이 정해져있다. <br>\n",
        " - 계층설정 : 입력, 은닉층, 출력\n",
        " - 모델 생성(계층)\n",
        " - 모델 설정 : compile\n",
        " - 모델 학습 (데이터) : fit\n",
        " - 학습한 모델로 예측 : predict"
      ],
      "metadata": {
        "id": "Kh75DotfHlpx"
      }
    },
    {
      "cell_type": "code",
      "source": [
        "import tensorflow as tf\n",
        "import numpy as np\n",
        "\n",
        "#1. 데이터 지정\n",
        "X_train = numpy.array([1, 2, 3, 4, 5, 6, 7]).reshape(-1,1)\n",
        "y_train = numpy.array([12, 17, 22, 27, 32, 37, 42])\n",
        "\n",
        "# 모델 생성 - 계층\n",
        "inputs = tf.keras.layers.Input(shape=(1,))\n",
        "outputs = tf.keras.layers.Dense(units=1)(inputs)"
      ],
      "metadata": {
        "id": "sE_n5qeBGaeE"
      },
      "execution_count": null,
      "outputs": []
    },
    {
      "cell_type": "code",
      "source": [
        "model = tf.keras.Model(inputs=inputs, outputs=outputs)"
      ],
      "metadata": {
        "id": "XtatEMooKDzq"
      },
      "execution_count": null,
      "outputs": []
    },
    {
      "cell_type": "code",
      "source": [
        "# 모델 설정\n",
        "model.compile(\n",
        "    loss = tf.keras.losses.MeanSquaredError(), #로스설정\n",
        "    optimizer = tf.keras.optimizers.Adam(learning_rate=0.01) #최적화\n",
        ")\n"
      ],
      "metadata": {
        "id": "10QKbx0LKNKe"
      },
      "execution_count": null,
      "outputs": []
    },
    {
      "cell_type": "code",
      "source": [
        "# 데이터 넣고 학습시키기\n",
        "model.fit(X_train, y_train, epochs=1000, verbose=0) # verbose = '로그찍지마'"
      ],
      "metadata": {
        "colab": {
          "base_uri": "https://localhost:8080/"
        },
        "id": "_bqHl3XXKich",
        "outputId": "c6406855-a4fc-44ca-8dc7-ee4d3f28908c"
      },
      "execution_count": null,
      "outputs": [
        {
          "output_type": "execute_result",
          "data": {
            "text/plain": [
              "<keras.src.callbacks.history.History at 0x787465526bd0>"
            ]
          },
          "metadata": {},
          "execution_count": 20
        }
      ]
    },
    {
      "cell_type": "code",
      "source": [],
      "metadata": {
        "id": "AmiIV1DoLaCF"
      },
      "execution_count": null,
      "outputs": []
    },
    {
      "cell_type": "code",
      "source": [
        "# 예측\n",
        "model.predict(np.array([[9]]))"
      ],
      "metadata": {
        "colab": {
          "base_uri": "https://localhost:8080/"
        },
        "id": "l4YHaRtLK6GL",
        "outputId": "da661cbd-066a-4de8-97aa-5a85b862af33"
      },
      "execution_count": null,
      "outputs": [
        {
          "output_type": "stream",
          "name": "stdout",
          "text": [
            "\u001b[1m1/1\u001b[0m \u001b[32m━━━━━━━━━━━━━━━━━━━━\u001b[0m\u001b[37m\u001b[0m \u001b[1m0s\u001b[0m 42ms/step\n"
          ]
        },
        {
          "output_type": "execute_result",
          "data": {
            "text/plain": [
              "array([[52.238716]], dtype=float32)"
            ]
          },
          "metadata": {},
          "execution_count": 21
        }
      ]
    },
    {
      "cell_type": "code",
      "source": [],
      "metadata": {
        "colab": {
          "base_uri": "https://localhost:8080/",
          "height": 110
        },
        "id": "syLxa3_-G4UW",
        "outputId": "992f8d58-849d-48e1-fcc1-953da04d32b2"
      },
      "execution_count": null,
      "outputs": [
        {
          "output_type": "error",
          "ename": "SyntaxError",
          "evalue": "invalid decimal literal (ipython-input-4-2285487222.py, line 1)",
          "traceback": [
            "\u001b[0;36m  File \u001b[0;32m\"/tmp/ipython-input-4-2285487222.py\"\u001b[0;36m, line \u001b[0;32m1\u001b[0m\n\u001b[0;31m    1model = linear_model.LinearRegression()\u001b[0m\n\u001b[0m    ^\u001b[0m\n\u001b[0;31mSyntaxError\u001b[0m\u001b[0;31m:\u001b[0m invalid decimal literal\n"
          ]
        }
      ]
    }
  ]
}