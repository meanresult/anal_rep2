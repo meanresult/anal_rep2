{
 "cells": [
  {
   "cell_type": "markdown",
   "id": "c248fa45",
   "metadata": {},
   "source": [
    "# 시간별 자건거 대여량 예측 모델\n",
    "\n",
    "<details>\n",
    "<summary>개요</summary>\n",
    "설명   \n",
    "Kaggle Scripts를 통해 이 대회를 시작하세요   \n",
    "\n",
    "자전거 공유 시스템은      \n",
    "도시 전역에 설치된 키오스크 네트워크를 통해    \n",
    "회원 가입, 대여, 반납 과정이 자동화된 자전거 대여 방식입니다.    \n",
    "\n",
    "이 시스템을 통해 사람들은 한 곳에서 자전거를 대여하고 필요에 따라 다른 곳에 반납할 수 있습니다.    \n",
    "현재 전 세계적으로 500개가 넘는 자전거 공유 프로그램이 운영되고 있습니다.   \n",
    "\n",
    "이러한 시스템에서 생성되는 데이터는 이동 시간, 출발지, 도착지, 그리고 경과 시간이 명확하게 기록되기 때문에 연구자들에게 매력적입니다.    \n",
    "따라서 자전거 공유 시스템은 센서 네트워크 역할을 하며, 도시의 이동성 연구에 활용될 수 있습니다.    \n",
    "이 대회에서 참가자들은 워싱턴 D.C.의 Capital Bikeshare 프로그램에서 자전거 대여 수요를 예측하기 위해    \n",
    "과거 사용 패턴과 날씨 데이터를 결합해야 합니다.\n",
    "</details>\n",
    "\n",
    "<details>\n",
    "<summary>컬럼 설명</summary>\n",
    "\n",
    "| 컬럼명            | 설명                                                                          |\n",
    "| -------------- | --------------------------------------------------------------------------- |\n",
    "| **datetime**   | 날짜 및 시간 (예: 2011-01-01 00:00:00). 시계열 분석 및 시간 기반 특징 추출 가능 (연, 월, 요일, 시간 등). |\n",
    "| **season**     | 계절 정보 (1: 봄, 2: 여름, 3: 가을, 4: 겨울). **주의**: 실제 날짜가 아닌 고정 분기 기준 (예: 1=3\\~5월). |\n",
    "| **holiday**    | 공휴일 여부 (0: 평일, 1: 공휴일). 미국의 공휴일을 기준으로 설정됨.                                  |\n",
    "| **workingday** | 근무일 여부 (0: 주말 또는 공휴일, 1: 평일). 이 컬럼은 **holiday**와 **요일 정보**를 종합한 결과입니다.      |\n",
    "| **weather**    | 날씨 상황 (1\\~4 등급). 숫자가 높을수록 안 좋은 날씨를 의미함.                                     |\n",
    "|                | - 1: 맑음, 구름 약간, 구름 많음 (좋은 날씨)                                               |\n",
    "|                | - 2: 안개 + 구름 등 (보통 날씨)                                                      |\n",
    "|                | - 3: 약한 눈 또는 비 등 (나쁜 날씨)                                                    |\n",
    "|                | - 4: 폭우, 폭설, 안개 등 (매우 안 좋은 날씨)                                              |\n",
    "| **temp**       | 실제 온도 (°C).                                                                 |\n",
    "| **atemp**      | 체감 온도 (°C). **temp와 유사하지만 다름**.                                             |\n",
    "| **humidity**   | 상대 습도 (%).                                                                  |\n",
    "| **windspeed**  | 풍속 (보통 km/h 혹은 m/s). 일부 전처리된 데이터에서는 `windspeed=0`이 다수 포함됨.                  |\n",
    "| **casual**     | 비회원(비등록 사용자)의 대여 수.                                                         |\n",
    "| **registered** | 등록된 회원의 대여 수.                                                               |\n",
    "| **count**      | 총 대여 수 (`casual + registered`). \\*\\*예측 타겟(target)\\*\\*으로 사용됨.                |\n",
    "\n",
    "\n",
    "</details>"
   ]
  },
  {
   "cell_type": "code",
   "execution_count": 24,
   "id": "ad6573a5",
   "metadata": {},
   "outputs": [],
   "source": [
    "\n",
    "import pandas as pd \n",
    "import numpy as np \n",
    "from sklearn.model_selection import train_test_split\n",
    "from sklearn.pipeline import Pipeline\n",
    "from sklearn.preprocessing import PolynomialFeatures\n",
    "from sklearn.linear_model import LinearRegression\n",
    "from sklearn.metrics import mean_squared_error, r2_score\n",
    "import seaborn as sns\n",
    "import matplotlib.pyplot as plt\n",
    "\n",
    "import matplotlib.pyplot as plt\n",
    "import seaborn as sns\n",
    "import matplotlib.font_manager as fm\n",
    "import matplotlib as mpl\n",
    "\n",
    "#폰트 지정\n",
    "from matplotlib import rcParams\n",
    "rcParams['font.family'] = 'Noto Sans KR'\n",
    "rcParams['axes.unicode_minus'] = False\n"
   ]
  },
  {
   "cell_type": "code",
   "execution_count": 2,
   "id": "ebedc82f",
   "metadata": {},
   "outputs": [
    {
     "name": "stdout",
     "output_type": "stream",
     "text": [
      "<class 'pandas.core.frame.DataFrame'>\n",
      "RangeIndex: 10886 entries, 0 to 10885\n",
      "Data columns (total 12 columns):\n",
      " #   Column      Non-Null Count  Dtype  \n",
      "---  ------      --------------  -----  \n",
      " 0   datetime    10886 non-null  object \n",
      " 1   season      10886 non-null  int64  \n",
      " 2   holiday     10886 non-null  int64  \n",
      " 3   workingday  10886 non-null  int64  \n",
      " 4   weather     10886 non-null  int64  \n",
      " 5   temp        10886 non-null  float64\n",
      " 6   atemp       10886 non-null  float64\n",
      " 7   humidity    10886 non-null  int64  \n",
      " 8   windspeed   10886 non-null  float64\n",
      " 9   casual      10886 non-null  int64  \n",
      " 10  registered  10886 non-null  int64  \n",
      " 11  count       10886 non-null  int64  \n",
      "dtypes: float64(3), int64(8), object(1)\n",
      "memory usage: 1020.7+ KB\n"
     ]
    },
    {
     "data": {
      "text/plain": [
       "(None,\n",
       "               datetime  season  holiday  workingday  weather  temp   atemp  \\\n",
       " 0  2011-01-01 00:00:00       1        0           0        1  9.84  14.395   \n",
       " 1  2011-01-01 01:00:00       1        0           0        1  9.02  13.635   \n",
       " \n",
       "    humidity  windspeed  casual  registered  count  \n",
       " 0        81        0.0       3          13     16  \n",
       " 1        80        0.0       8          32     40  )"
      ]
     },
     "execution_count": 2,
     "metadata": {},
     "output_type": "execute_result"
    }
   ],
   "source": [
    "dt = pd.read_csv('data3/train.csv')\n",
    "dt.info(), dt.head(2)"
   ]
  },
  {
   "cell_type": "code",
   "execution_count": 11,
   "id": "f163f5b8",
   "metadata": {},
   "outputs": [
    {
     "name": "stdout",
     "output_type": "stream",
     "text": [
      "<class 'pandas.core.frame.DataFrame'>\n",
      "RangeIndex: 10886 entries, 0 to 10885\n",
      "Data columns (total 16 columns):\n",
      " #   Column      Non-Null Count  Dtype         \n",
      "---  ------      --------------  -----         \n",
      " 0   datetime    10886 non-null  datetime64[ns]\n",
      " 1   season      10886 non-null  int64         \n",
      " 2   holiday     10886 non-null  int64         \n",
      " 3   workingday  10886 non-null  int64         \n",
      " 4   weather     10886 non-null  int64         \n",
      " 5   temp        10886 non-null  float64       \n",
      " 6   atemp       10886 non-null  float64       \n",
      " 7   humidity    10886 non-null  int64         \n",
      " 8   windspeed   10886 non-null  float64       \n",
      " 9   casual      10886 non-null  int64         \n",
      " 10  registered  10886 non-null  int64         \n",
      " 11  count       10886 non-null  int64         \n",
      " 12  year        10886 non-null  int32         \n",
      " 13  month       10886 non-null  int32         \n",
      " 14  hour        10886 non-null  int32         \n",
      " 15  dayofweek   10886 non-null  int32         \n",
      "dtypes: datetime64[ns](1), float64(3), int32(4), int64(8)\n",
      "memory usage: 1.2 MB\n"
     ]
    },
    {
     "data": {
      "text/plain": [
       "(None,\n",
       "                             datetime        season       holiday  \\\n",
       " count                          10886  10886.000000  10886.000000   \n",
       " mean   2011-12-27 05:56:22.399411968      2.506614      0.028569   \n",
       " min              2011-01-01 00:00:00      1.000000      0.000000   \n",
       " 25%              2011-07-02 07:15:00      2.000000      0.000000   \n",
       " 50%              2012-01-01 20:30:00      3.000000      0.000000   \n",
       " 75%              2012-07-01 12:45:00      4.000000      0.000000   \n",
       " max              2012-12-19 23:00:00      4.000000      1.000000   \n",
       " std                              NaN      1.116174      0.166599   \n",
       " \n",
       "          workingday       weather         temp         atemp      humidity  \\\n",
       " count  10886.000000  10886.000000  10886.00000  10886.000000  10886.000000   \n",
       " mean       0.680875      1.418427     20.23086     23.655084     61.886460   \n",
       " min        0.000000      1.000000      0.82000      0.760000      0.000000   \n",
       " 25%        0.000000      1.000000     13.94000     16.665000     47.000000   \n",
       " 50%        1.000000      1.000000     20.50000     24.240000     62.000000   \n",
       " 75%        1.000000      2.000000     26.24000     31.060000     77.000000   \n",
       " max        1.000000      4.000000     41.00000     45.455000    100.000000   \n",
       " std        0.466159      0.633839      7.79159      8.474601     19.245033   \n",
       " \n",
       "           windspeed        casual    registered         count          year  \\\n",
       " count  10886.000000  10886.000000  10886.000000  10886.000000  10886.000000   \n",
       " mean      12.799395     36.021955    155.552177    191.574132   2011.501929   \n",
       " min        0.000000      0.000000      0.000000      1.000000   2011.000000   \n",
       " 25%        7.001500      4.000000     36.000000     42.000000   2011.000000   \n",
       " 50%       12.998000     17.000000    118.000000    145.000000   2012.000000   \n",
       " 75%       16.997900     49.000000    222.000000    284.000000   2012.000000   \n",
       " max       56.996900    367.000000    886.000000    977.000000   2012.000000   \n",
       " std        8.164537     49.960477    151.039033    181.144454      0.500019   \n",
       " \n",
       "               month          hour     dayofweek  \n",
       " count  10886.000000  10886.000000  10886.000000  \n",
       " mean       6.521495     11.541613      3.013963  \n",
       " min        1.000000      0.000000      0.000000  \n",
       " 25%        4.000000      6.000000      1.000000  \n",
       " 50%        7.000000     12.000000      3.000000  \n",
       " 75%       10.000000     18.000000      5.000000  \n",
       " max       12.000000     23.000000      6.000000  \n",
       " std        3.444373      6.915838      2.004585  )"
      ]
     },
     "execution_count": 11,
     "metadata": {},
     "output_type": "execute_result"
    }
   ],
   "source": [
    "dt.info(), dt.describe()"
   ]
  },
  {
   "cell_type": "code",
   "execution_count": 22,
   "id": "48401895",
   "metadata": {},
   "outputs": [],
   "source": [
    "# 컬럼명 - 한국어명 매핑\n",
    "col_kor_map = {\n",
    "    'season': '계절',\n",
    "    'holiday': '공휴일 여부',\n",
    "    'workingday': '근무일 여부',\n",
    "    'weather': '날씨 상태',\n",
    "    'temp': '온도',\n",
    "    'atemp': '체감 온도',\n",
    "    'humidity': '습도',\n",
    "    'windspeed': '풍속'\n",
    "}"
   ]
  },
  {
   "cell_type": "code",
   "execution_count": 25,
   "id": "410901ff",
   "metadata": {},
   "outputs": [
    {
     "data": {
      "image/png": "[encoded data removed]",
      "text/plain": [
       "<Figure size 2000x800 with 8 Axes>"
      ]
     },
     "metadata": {},
     "output_type": "display_data"
    }
   ],
   "source": [
    "import matplotlib.pyplot as plt\n",
    "import seaborn as sns\n",
    "\n",
    "# 시각화할 컬럼 리스트\n",
    "li = ['season', 'holiday', 'workingday', 'weather', 'temp', 'atemp', 'humidity', 'windspeed']\n",
    "\n",
    "# 컬럼명 -> 한글 제목 매핑\n",
    "col_kor_map = {\n",
    "    'season': '계절',\n",
    "    'holiday': '공휴일 여부',\n",
    "    'workingday': '근무일 여부',\n",
    "    'weather': '날씨 상태',\n",
    "    'temp': '온도',\n",
    "    'atemp': '체감 온도',\n",
    "    'humidity': '습도',\n",
    "    'windspeed': '풍속'\n",
    "}\n",
    "\n",
    "# 그리드 설정\n",
    "n_cols = 4\n",
    "n_rows = (len(li) + n_cols - 1) // n_cols\n",
    "\n",
    "plt.figure(figsize=(20, n_rows * 4))\n",
    "\n",
    "for i, col in enumerate(li, 1):\n",
    "    plt.subplot(n_rows, n_cols, i)\n",
    "    sns.boxplot(y=dt[col])  # 또는 x=dt[col] 으로 방향 변경 가능\n",
    "    plt.title(f'{col_kor_map[col]}', fontsize=12)\n",
    "\n",
    "plt.tight_layout()\n",
    "plt.show()\n"
   ]
  },
  {
   "cell_type": "code",
   "execution_count": null,
   "id": "aa301147",
   "metadata": {},
   "outputs": [],
   "source": [
    "# 예시: 풍속 상위 이상치 제거\n",
    "Q1 = dt['windspeed'].quantile(0.25)\n",
    "Q3 = dt['windspeed'].quantile(0.75)\n",
    "IQR = Q3 - Q1\n",
    "upper = Q3 + 1.5 * IQR\n",
    "\n",
    "dt = dt[dt['windspeed'] <= upper]"
   ]
  },
  {
   "cell_type": "code",
   "execution_count": 29,
   "id": "9337b8b9",
   "metadata": {},
   "outputs": [],
   "source": [
    "# 0인 값 중앙값으로 대체\n",
    "dt.loc[dt['windspeed'] == 0, 'windspeed'] = dt[dt['windspeed'] != 0]['windspeed'].median()\n"
   ]
  },
  {
   "cell_type": "code",
   "execution_count": 4,
   "id": "4438c6c5",
   "metadata": {},
   "outputs": [],
   "source": [
    "\n",
    "# 오브젝트 데이터 'datetime' 인코딩\n",
    "\n",
    "dt['datetime'] = pd.to_datetime(dt['datetime'])\n",
    "\n",
    "dt['year'] = dt['datetime'].dt.year\n",
    "dt['month'] = dt['datetime'].dt.month\n",
    "dt['hour'] = dt['datetime'].dt.hour\n",
    "dt['dayofweek'] = dt['datetime'].dt.dayofweek\n",
    "\n"
   ]
  },
  {
   "cell_type": "code",
   "execution_count": 5,
   "id": "27213dfe",
   "metadata": {},
   "outputs": [],
   "source": [
    "x = dt.drop(columns=['count','datetime','casual','registered'], inplace=False)\n",
    "y = dt['count'].values"
   ]
  },
  {
   "cell_type": "code",
   "execution_count": 6,
   "id": "acd2b7e7",
   "metadata": {},
   "outputs": [],
   "source": [
    "xtrain, xtest, ytrain, ytest = train_test_split(x, y , test_size= 0.2, random_state=512)"
   ]
  },
  {
   "cell_type": "code",
   "execution_count": 7,
   "id": "51c0bc7c",
   "metadata": {},
   "outputs": [
    {
     "name": "stdout",
     "output_type": "stream",
     "text": [
      "<class 'pandas.core.frame.DataFrame'>\n",
      "RangeIndex: 10886 entries, 0 to 10885\n",
      "Data columns (total 12 columns):\n",
      " #   Column      Non-Null Count  Dtype  \n",
      "---  ------      --------------  -----  \n",
      " 0   season      10886 non-null  int64  \n",
      " 1   holiday     10886 non-null  int64  \n",
      " 2   workingday  10886 non-null  int64  \n",
      " 3   weather     10886 non-null  int64  \n",
      " 4   temp        10886 non-null  float64\n",
      " 5   atemp       10886 non-null  float64\n",
      " 6   humidity    10886 non-null  int64  \n",
      " 7   windspeed   10886 non-null  float64\n",
      " 8   year        10886 non-null  int32  \n",
      " 9   month       10886 non-null  int32  \n",
      " 10  hour        10886 non-null  int32  \n",
      " 11  dayofweek   10886 non-null  int32  \n",
      "dtypes: float64(3), int32(4), int64(5)\n",
      "memory usage: 850.6 KB\n"
     ]
    },
    {
     "data": {
      "text/plain": [
       "(None,\n",
       "    season  holiday  workingday  weather  temp   atemp  humidity  windspeed  \\\n",
       " 0       1        0           0        1  9.84  14.395        81        0.0   \n",
       " 1       1        0           0        1  9.02  13.635        80        0.0   \n",
       " \n",
       "    year  month  hour  dayofweek  \n",
       " 0  2011      1     0          5  \n",
       " 1  2011      1     1          5  )"
      ]
     },
     "execution_count": 7,
     "metadata": {},
     "output_type": "execute_result"
    }
   ],
   "source": [
    "x.info(), x.head(2)"
   ]
  },
  {
   "cell_type": "code",
   "execution_count": 8,
   "id": "cfea1c93",
   "metadata": {},
   "outputs": [],
   "source": [
    "results = []\n",
    "\n",
    "for degrees in range(1,5):\n",
    "    model_poly = Pipeline([\n",
    "    ('poly', PolynomialFeatures(degree=degrees, include_bias=False)),\n",
    "    ('Linear',LinearRegression())]\n",
    ")\n",
    "    model_poly.fit(xtrain, ytrain)\n",
    "    pred_poly = model_poly.predict(xtest)\n",
    "    mse = mean_squared_error(ytest,pred_poly)\n",
    "    rmse = np.sqrt(mse)\n",
    "    r2 = r2_score(ytest, pred_poly)\n",
    "\n",
    "    results.append({ 'degree': degrees,\n",
    "                'mse' : mse, \n",
    "                'RMSE' : rmse,\n",
    "                'R2' : r2})"
   ]
  },
  {
   "cell_type": "code",
   "execution_count": 9,
   "id": "da57d29a",
   "metadata": {},
   "outputs": [
    {
     "data": {
      "text/html": [
       "<div>\n",
       "<style scoped>\n",
       "    .dataframe tbody tr th:only-of-type {\n",
       "        vertical-align: middle;\n",
       "    }\n",
       "\n",
       "    .dataframe tbody tr th {\n",
       "        vertical-align: top;\n",
       "    }\n",
       "\n",
       "    .dataframe thead th {\n",
       "        text-align: right;\n",
       "    }\n",
       "</style>\n",
       "<table border=\"1\" class=\"dataframe\">\n",
       "  <thead>\n",
       "    <tr style=\"text-align: right;\">\n",
       "      <th></th>\n",
       "      <th>degree</th>\n",
       "      <th>mse</th>\n",
       "      <th>RMSE</th>\n",
       "      <th>R2</th>\n",
       "    </tr>\n",
       "  </thead>\n",
       "  <tbody>\n",
       "    <tr>\n",
       "      <th>0</th>\n",
       "      <td>1</td>\n",
       "      <td>21298.777472</td>\n",
       "      <td>145.941007</td>\n",
       "      <td>0.389444</td>\n",
       "    </tr>\n",
       "    <tr>\n",
       "      <th>1</th>\n",
       "      <td>2</td>\n",
       "      <td>15696.993347</td>\n",
       "      <td>125.287642</td>\n",
       "      <td>0.550026</td>\n",
       "    </tr>\n",
       "    <tr>\n",
       "      <th>2</th>\n",
       "      <td>3</td>\n",
       "      <td>12907.005055</td>\n",
       "      <td>113.609001</td>\n",
       "      <td>0.630005</td>\n",
       "    </tr>\n",
       "    <tr>\n",
       "      <th>3</th>\n",
       "      <td>4</td>\n",
       "      <td>34521.946481</td>\n",
       "      <td>185.800825</td>\n",
       "      <td>0.010385</td>\n",
       "    </tr>\n",
       "  </tbody>\n",
       "</table>\n",
       "</div>"
      ],
      "text/plain": [
       "   degree           mse        RMSE        R2\n",
       "0       1  21298.777472  145.941007  0.389444\n",
       "1       2  15696.993347  125.287642  0.550026\n",
       "2       3  12907.005055  113.609001  0.630005\n",
       "3       4  34521.946481  185.800825  0.010385"
      ]
     },
     "execution_count": 9,
     "metadata": {},
     "output_type": "execute_result"
    }
   ],
   "source": [
    "pd.DataFrame(results)"
   ]
  }
 ],
 "metadata": {
  "kernelspec": {
   "display_name": "hi_ml_env",
   "language": "python",
   "name": "python3"
  },
  "language_info": {
   "codemirror_mode": {
    "name": "ipython",
    "version": 3
   },
   "file_extension": ".py",
   "mimetype": "text/x-python",
   "name": "python",
   "nbconvert_exporter": "python",
   "pygments_lexer": "ipython3",
   "version": "3.10.16"
  }
 },
 "nbformat": 4,
 "nbformat_minor": 5
}
