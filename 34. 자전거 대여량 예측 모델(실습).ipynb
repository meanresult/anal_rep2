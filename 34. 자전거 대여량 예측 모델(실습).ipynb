{
 "cells": [
  {
   "cell_type": "markdown",
   "id": "c248fa45",
   "metadata": {},
   "source": [
    "# 시간별 자건거 대여량 예측 모델\n",
    "\n",
    "<details>\n",
    "<summary>개요</summary>\n",
    "설명   \n",
    "Kaggle Scripts를 통해 이 대회를 시작하세요   \n",
    "\n",
    "자전거 공유 시스템은      \n",
    "도시 전역에 설치된 키오스크 네트워크를 통해    \n",
    "회원 가입, 대여, 반납 과정이 자동화된 자전거 대여 방식입니다.    \n",
    "\n",
    "이 시스템을 통해 사람들은 한 곳에서 자전거를 대여하고 필요에 따라 다른 곳에 반납할 수 있습니다.    \n",
    "현재 전 세계적으로 500개가 넘는 자전거 공유 프로그램이 운영되고 있습니다.   \n",
    "\n",
    "이러한 시스템에서 생성되는 데이터는 이동 시간, 출발지, 도착지, 그리고 경과 시간이 명확하게 기록되기 때문에 연구자들에게 매력적입니다.    \n",
    "따라서 자전거 공유 시스템은 센서 네트워크 역할을 하며, 도시의 이동성 연구에 활용될 수 있습니다.    \n",
    "이 대회에서 참가자들은 워싱턴 D.C.의 Capital Bikeshare 프로그램에서 자전거 대여 수요를 예측하기 위해    \n",
    "과거 사용 패턴과 날씨 데이터를 결합해야 합니다.\n",
    "</details>\n",
    "\n",
    "<details>\n",
    "<summary>컬럼 설명</summary>\n",
    "\n",
    "| 컬럼명            | 설명                                                                          |\n",
    "| -------------- | --------------------------------------------------------------------------- |\n",
    "| **datetime**   | 날짜 및 시간 (예: 2011-01-01 00:00:00). 시계열 분석 및 시간 기반 특징 추출 가능 (연, 월, 요일, 시간 등). |\n",
    "| **season**     | 계절 정보 (1: 봄, 2: 여름, 3: 가을, 4: 겨울). **주의**: 실제 날짜가 아닌 고정 분기 기준 (예: 1=3\\~5월). |\n",
    "| **holiday**    | 공휴일 여부 (0: 평일, 1: 공휴일). 미국의 공휴일을 기준으로 설정됨.                                  |\n",
    "| **workingday** | 근무일 여부 (0: 주말 또는 공휴일, 1: 평일). 이 컬럼은 **holiday**와 **요일 정보**를 종합한 결과입니다.      |\n",
    "| **weather**    | 날씨 상황 (1\\~4 등급). 숫자가 높을수록 안 좋은 날씨를 의미함.                                     |\n",
    "|                | - 1: 맑음, 구름 약간, 구름 많음 (좋은 날씨)                                               |\n",
    "|                | - 2: 안개 + 구름 등 (보통 날씨)                                                      |\n",
    "|                | - 3: 약한 눈 또는 비 등 (나쁜 날씨)                                                    |\n",
    "|                | - 4: 폭우, 폭설, 안개 등 (매우 안 좋은 날씨)                                              |\n",
    "| **temp**       | 실제 온도 (°C).                                                                 |\n",
    "| **atemp**      | 체감 온도 (°C). **temp와 유사하지만 다름**.                                             |\n",
    "| **humidity**   | 상대 습도 (%).                                                                  |\n",
    "| **windspeed**  | 풍속 (보통 km/h 혹은 m/s). 일부 전처리된 데이터에서는 `windspeed=0`이 다수 포함됨.                  |\n",
    "| **casual**     | 비회원(비등록 사용자)의 대여 수.                                                         |\n",
    "| **registered** | 등록된 회원의 대여 수.                                                               |\n",
    "| **count**      | 총 대여 수 (`casual + registered`). \\*\\*예측 타겟(target)\\*\\*으로 사용됨.                |\n",
    "\n",
    "\n",
    "</details>"
   ]
  },
  {
   "cell_type": "code",
   "execution_count": 26,
   "id": "ad6573a5",
   "metadata": {},
   "outputs": [],
   "source": [
    "\n",
    "import pandas as pd \n",
    "import numpy as np \n",
    "from sklearn.model_selection import train_test_split\n",
    "from sklearn.pipeline import Pipeline\n",
    "from sklearn.preprocessing import PolynomialFeatures\n",
    "from sklearn.linear_model import LinearRegression\n",
    "from sklearn.metrics import mean_squared_error, r2_score"
   ]
  },
  {
   "cell_type": "code",
   "execution_count": 41,
   "id": "ebedc82f",
   "metadata": {},
   "outputs": [
    {
     "name": "stdout",
     "output_type": "stream",
     "text": [
      "<class 'pandas.core.frame.DataFrame'>\n",
      "RangeIndex: 10886 entries, 0 to 10885\n",
      "Data columns (total 12 columns):\n",
      " #   Column      Non-Null Count  Dtype  \n",
      "---  ------      --------------  -----  \n",
      " 0   datetime    10886 non-null  object \n",
      " 1   season      10886 non-null  int64  \n",
      " 2   holiday     10886 non-null  int64  \n",
      " 3   workingday  10886 non-null  int64  \n",
      " 4   weather     10886 non-null  int64  \n",
      " 5   temp        10886 non-null  float64\n",
      " 6   atemp       10886 non-null  float64\n",
      " 7   humidity    10886 non-null  int64  \n",
      " 8   windspeed   10886 non-null  float64\n",
      " 9   casual      10886 non-null  int64  \n",
      " 10  registered  10886 non-null  int64  \n",
      " 11  count       10886 non-null  int64  \n",
      "dtypes: float64(3), int64(8), object(1)\n",
      "memory usage: 1020.7+ KB\n"
     ]
    },
    {
     "data": {
      "text/plain": [
       "(None,\n",
       "               datetime  season  holiday  workingday  weather  temp   atemp  \\\n",
       " 0  2011-01-01 00:00:00       1        0           0        1  9.84  14.395   \n",
       " 1  2011-01-01 01:00:00       1        0           0        1  9.02  13.635   \n",
       " \n",
       "    humidity  windspeed  casual  registered  count  \n",
       " 0        81        0.0       3          13     16  \n",
       " 1        80        0.0       8          32     40  )"
      ]
     },
     "execution_count": 41,
     "metadata": {},
     "output_type": "execute_result"
    }
   ],
   "source": [
    "dt = pd.read_csv('data3/train.csv')\n",
    "dt.info(), dt.head(2)"
   ]
  },
  {
   "cell_type": "code",
   "execution_count": 44,
   "id": "f163f5b8",
   "metadata": {},
   "outputs": [
    {
     "name": "stdout",
     "output_type": "stream",
     "text": [
      "<class 'pandas.core.frame.DataFrame'>\n",
      "RangeIndex: 10886 entries, 0 to 10885\n",
      "Data columns (total 16 columns):\n",
      " #   Column      Non-Null Count  Dtype         \n",
      "---  ------      --------------  -----         \n",
      " 0   datetime    10886 non-null  datetime64[ns]\n",
      " 1   season      10886 non-null  int64         \n",
      " 2   holiday     10886 non-null  int64         \n",
      " 3   workingday  10886 non-null  int64         \n",
      " 4   weather     10886 non-null  int64         \n",
      " 5   temp        10886 non-null  float64       \n",
      " 6   atemp       10886 non-null  float64       \n",
      " 7   humidity    10886 non-null  int64         \n",
      " 8   windspeed   10886 non-null  float64       \n",
      " 9   casual      10886 non-null  int64         \n",
      " 10  registered  10886 non-null  int64         \n",
      " 11  count       10886 non-null  int64         \n",
      " 12  year        10886 non-null  int32         \n",
      " 13  month       10886 non-null  int32         \n",
      " 14  hour        10886 non-null  int32         \n",
      " 15  dayofweek   10886 non-null  int32         \n",
      "dtypes: datetime64[ns](1), float64(3), int32(4), int64(8)\n",
      "memory usage: 1.2 MB\n"
     ]
    }
   ],
   "source": [
    "dt.info()"
   ]
  },
  {
   "cell_type": "code",
   "execution_count": 43,
   "id": "4438c6c5",
   "metadata": {},
   "outputs": [],
   "source": [
    "\n",
    "# 오브젝트 데이터 'datetime' 인코딩\n",
    "\n",
    "dt['datetime'] = pd.to_datetime(dt['datetime'])\n",
    "\n",
    "dt['year'] = dt['datetime'].dt.year\n",
    "dt['month'] = dt['datetime'].dt.month\n",
    "dt['hour'] = dt['datetime'].dt.hour\n",
    "dt['dayofweek'] = dt['datetime'].dt.dayofweek\n",
    "\n"
   ]
  },
  {
   "cell_type": "code",
   "execution_count": 52,
   "id": "27213dfe",
   "metadata": {},
   "outputs": [],
   "source": [
    "x = dt.drop(columns=['count','datetime','casual','registered'], inplace=False)\n",
    "y = dt['count'].values"
   ]
  },
  {
   "cell_type": "code",
   "execution_count": 53,
   "id": "acd2b7e7",
   "metadata": {},
   "outputs": [],
   "source": [
    "xtrain, xtest, ytrain, ytest = train_test_split(x, y , test_size= 0.2, random_state=512)"
   ]
  },
  {
   "cell_type": "code",
   "execution_count": 71,
   "id": "51c0bc7c",
   "metadata": {},
   "outputs": [
    {
     "name": "stdout",
     "output_type": "stream",
     "text": [
      "<class 'pandas.core.frame.DataFrame'>\n",
      "RangeIndex: 10886 entries, 0 to 10885\n",
      "Data columns (total 12 columns):\n",
      " #   Column      Non-Null Count  Dtype  \n",
      "---  ------      --------------  -----  \n",
      " 0   season      10886 non-null  int64  \n",
      " 1   holiday     10886 non-null  int64  \n",
      " 2   workingday  10886 non-null  int64  \n",
      " 3   weather     10886 non-null  int64  \n",
      " 4   temp        10886 non-null  float64\n",
      " 5   atemp       10886 non-null  float64\n",
      " 6   humidity    10886 non-null  int64  \n",
      " 7   windspeed   10886 non-null  float64\n",
      " 8   year        10886 non-null  int32  \n",
      " 9   month       10886 non-null  int32  \n",
      " 10  hour        10886 non-null  int32  \n",
      " 11  dayofweek   10886 non-null  int32  \n",
      "dtypes: float64(3), int32(4), int64(5)\n",
      "memory usage: 850.6 KB\n"
     ]
    },
    {
     "data": {
      "text/plain": [
       "(None,\n",
       "    season  holiday  workingday  weather  temp   atemp  humidity  windspeed  \\\n",
       " 0       1        0           0        1  9.84  14.395        81        0.0   \n",
       " 1       1        0           0        1  9.02  13.635        80        0.0   \n",
       " \n",
       "    year  month  hour  dayofweek  \n",
       " 0  2011      1     0          5  \n",
       " 1  2011      1     1          5  )"
      ]
     },
     "execution_count": 71,
     "metadata": {},
     "output_type": "execute_result"
    }
   ],
   "source": [
    "x.info(), x.head(2)"
   ]
  },
  {
   "cell_type": "code",
   "execution_count": 72,
   "id": "cfea1c93",
   "metadata": {},
   "outputs": [],
   "source": [
    "results = []\n",
    "\n",
    "for degrees in range(1,5):\n",
    "    model_poly = Pipeline([\n",
    "    ('poly', PolynomialFeatures(degree=degrees, include_bias=False)),\n",
    "    ('Linear',LinearRegression())]\n",
    ")\n",
    "    model_poly.fit(xtrain, ytrain)\n",
    "    pred_poly = model_poly.predict(xtest)\n",
    "    mse = mean_squared_error(ytest,pred_poly)\n",
    "    rmse = np.sqrt(mse)\n",
    "    r2 = r2_score(ytest, pred_poly)\n",
    "\n",
    "    results.append({ 'degree': degrees,\n",
    "                'mse' : mse, \n",
    "                'RMSE' : rmse,\n",
    "                'R2' : r2})"
   ]
  },
  {
   "cell_type": "code",
   "execution_count": 73,
   "id": "da57d29a",
   "metadata": {},
   "outputs": [
    {
     "data": {
      "text/html": [
       "<div>\n",
       "<style scoped>\n",
       "    .dataframe tbody tr th:only-of-type {\n",
       "        vertical-align: middle;\n",
       "    }\n",
       "\n",
       "    .dataframe tbody tr th {\n",
       "        vertical-align: top;\n",
       "    }\n",
       "\n",
       "    .dataframe thead th {\n",
       "        text-align: right;\n",
       "    }\n",
       "</style>\n",
       "<table border=\"1\" class=\"dataframe\">\n",
       "  <thead>\n",
       "    <tr style=\"text-align: right;\">\n",
       "      <th></th>\n",
       "      <th>degree</th>\n",
       "      <th>mse</th>\n",
       "      <th>RMSE</th>\n",
       "      <th>R2</th>\n",
       "    </tr>\n",
       "  </thead>\n",
       "  <tbody>\n",
       "    <tr>\n",
       "      <th>0</th>\n",
       "      <td>1</td>\n",
       "      <td>21298.777472</td>\n",
       "      <td>145.941007</td>\n",
       "      <td>0.389444</td>\n",
       "    </tr>\n",
       "    <tr>\n",
       "      <th>1</th>\n",
       "      <td>2</td>\n",
       "      <td>15696.993347</td>\n",
       "      <td>125.287642</td>\n",
       "      <td>0.550026</td>\n",
       "    </tr>\n",
       "    <tr>\n",
       "      <th>2</th>\n",
       "      <td>3</td>\n",
       "      <td>12907.005055</td>\n",
       "      <td>113.609001</td>\n",
       "      <td>0.630005</td>\n",
       "    </tr>\n",
       "    <tr>\n",
       "      <th>3</th>\n",
       "      <td>4</td>\n",
       "      <td>34521.946481</td>\n",
       "      <td>185.800825</td>\n",
       "      <td>0.010385</td>\n",
       "    </tr>\n",
       "  </tbody>\n",
       "</table>\n",
       "</div>"
      ],
      "text/plain": [
       "   degree           mse        RMSE        R2\n",
       "0       1  21298.777472  145.941007  0.389444\n",
       "1       2  15696.993347  125.287642  0.550026\n",
       "2       3  12907.005055  113.609001  0.630005\n",
       "3       4  34521.946481  185.800825  0.010385"
      ]
     },
     "execution_count": 73,
     "metadata": {},
     "output_type": "execute_result"
    }
   ],
   "source": [
    "pd.DataFrame(results)"
   ]
  }
 ],
 "metadata": {
  "kernelspec": {
   "display_name": "hi_ml_env",
   "language": "python",
   "name": "python3"
  },
  "language_info": {
   "codemirror_mode": {
    "name": "ipython",
    "version": 3
   },
   "file_extension": ".py",
   "mimetype": "text/x-python",
   "name": "python",
   "nbconvert_exporter": "python",
   "pygments_lexer": "ipython3",
   "version": "3.10.16"
  }
 },
 "nbformat": 4,
 "nbformat_minor": 5
}
