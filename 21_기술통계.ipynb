{
 "cells": [
  {
   "cell_type": "markdown",
   "id": "272da071",
   "metadata": {},
   "source": [
    "# 1️⃣ 기술통게 "
   ]
  },
  {
   "cell_type": "code",
   "execution_count": 1,
   "id": "9034d0f2",
   "metadata": {},
   "outputs": [
    {
     "name": "stdout",
     "output_type": "stream",
     "text": [
      "30.0\n"
     ]
    }
   ],
   "source": [
    "\n",
    "import numpy as np\n",
    "#산술평균\n",
    "data = [10,20,30,40,50]\n",
    "mean_value = np.mean(data)\n",
    "print(mean_value)   #30.0"
   ]
  },
  {
   "cell_type": "code",
   "execution_count": null,
   "id": "3c764330",
   "metadata": {},
   "outputs": [
    {
     "data": {
      "text/plain": [
       "np.float64(26.051710846973528)"
      ]
     },
     "execution_count": 2,
     "metadata": {},
     "output_type": "execute_result"
    }
   ],
   "source": [
    "# 기하평균\n",
    "# ✅ 예:\n",
    "# 투자 수익률이 매년 10%, 20%, -10%면 단순 평균으로는 실제 복리효과를 반영하지 못합니다. 기하평균이 진짜 연평균 복리수익률을 알려줌.\n",
    "\n",
    "from scipy.stats import hmean, gmean\n",
    "gmean(data)"
   ]
  },
  {
   "cell_type": "code",
   "execution_count": null,
   "id": "c898fcde",
   "metadata": {},
   "outputs": [
    {
     "data": {
      "text/plain": [
       "np.float64(21.8978102189781)"
      ]
     },
     "execution_count": 3,
     "metadata": {},
     "output_type": "execute_result"
    }
   ],
   "source": [
    "# 조화평균 : 속도 계산할 때 사용하면 됨 \n",
    "\n",
    "from scipy.stats import hmean\n",
    "hmean(data)"
   ]
  },
  {
   "cell_type": "code",
   "execution_count": 5,
   "id": "d248a4a8",
   "metadata": {},
   "outputs": [
    {
     "data": {
      "text/plain": [
       "np.float64(5800.0)"
      ]
     },
     "execution_count": 5,
     "metadata": {},
     "output_type": "execute_result"
    }
   ],
   "source": [
    "# 가중평균\n",
    "#가격과 개수\n",
    "prices = [5000, 9000]\n",
    "counts = [8,2]\n",
    "\n",
    "np.average(prices, weights=counts)"
   ]
  },
  {
   "cell_type": "markdown",
   "id": "b115881f",
   "metadata": {},
   "source": [
    "# 2️⃣ 중앙값 \n",
    "위치에 따라 값을 구함\n",
    "\n",
    "median = 1,3,3,6,7,8,9 "
   ]
  },
  {
   "cell_type": "code",
   "execution_count": 6,
   "id": "931d25fe",
   "metadata": {},
   "outputs": [
    {
     "data": {
      "text/plain": [
       "[10, 20, 30, 40, 50]"
      ]
     },
     "execution_count": 6,
     "metadata": {},
     "output_type": "execute_result"
    }
   ],
   "source": [
    "data"
   ]
  },
  {
   "cell_type": "code",
   "execution_count": 15,
   "id": "aeaeb2b3",
   "metadata": {},
   "outputs": [
    {
     "name": "stdout",
     "output_type": "stream",
     "text": [
      "75.0 80.0 85.0\n"
     ]
    }
   ],
   "source": [
    "# 데이터분석 II\n",
    "import numpy as np\n",
    "\n",
    "# scores = [65, 75, 80, 85, 95]\n",
    "scores = [15, 75, 80, 85, 95]\n",
    "p25 = np.percentile(scores, 25) # Q1 25번째 백분위수\n",
    "p50 = np.percentile(scores, 50) # Q2 50번째 백분위수\n",
    "p75 = np.percentile(scores, 75) # Q3 75번째 백분위수\n",
    "\n",
    "print( p25, p50, p75)"
   ]
  },
  {
   "cell_type": "code",
   "execution_count": 16,
   "id": "3d12d7c3",
   "metadata": {},
   "outputs": [
    {
     "data": {
      "text/plain": [
       "np.float64(10.0)"
      ]
     },
     "execution_count": 16,
     "metadata": {},
     "output_type": "execute_result"
    }
   ],
   "source": [
    "# IQR : 사분위범위 Q3-Q1 = 85-75 = 10 \n",
    "p75 - p25"
   ]
  },
  {
   "cell_type": "markdown",
   "id": "5273d87e",
   "metadata": {},
   "source": [
    "\n",
    "중앙값, 분위수는 개수(위치)를 중요시하느 통계량\n",
    "이상값/극단적인 값이 중요하지 않다.\n",
    " "
   ]
  },
  {
   "cell_type": "markdown",
   "id": "d4daa8be",
   "metadata": {},
   "source": [
    "# 3️⃣ 최빈값 "
   ]
  },
  {
   "cell_type": "code",
   "execution_count": 17,
   "id": "39c4bcbe",
   "metadata": {},
   "outputs": [
    {
     "name": "stdout",
     "output_type": "stream",
     "text": [
      "0    3\n",
      "dtype: int64\n"
     ]
    }
   ],
   "source": [
    "import pandas as pd\n",
    "\n",
    "data = pd.Series([1, 2, 2, 3, 3, 3, 4, 4])\n",
    "mode_value = data.mode()\n",
    "print(mode_value)  # 3 (가장 많이 등장한 값)"
   ]
  },
  {
   "cell_type": "markdown",
   "id": "af037212",
   "metadata": {},
   "source": [
    "# 4️⃣ 변동(산포)\n",
    "\n",
    "### 변동성(variability, spread 또는 dispersion)\n",
    "\n",
    "값들이 서로 얼마나 다른지를 나타내는 개념이고 측정하는 기준이다."
   ]
  },
  {
   "cell_type": "code",
   "execution_count": 18,
   "id": "363155ba",
   "metadata": {},
   "outputs": [
    {
     "name": "stdout",
     "output_type": "stream",
     "text": [
      "40\n"
     ]
    }
   ],
   "source": [
    "data = [10, 20, 30, 40, 50]\n",
    "range_value = max(data) - min(data)\n",
    "print(range_value)  # 40"
   ]
  },
  {
   "cell_type": "markdown",
   "id": "33b6ada3",
   "metadata": {},
   "source": [
    "### 범위\n",
    "\n",
    "가장 일반적으로 사용되는 변동성(variability) 측정치로 분포 내의 가장 높은 점수에서 가장 낮은 점수를 뺀 값으로 계산한다.\n",
    "\n",
    "### 범위의 계산 > 변동성을 측정하는 지표 > 극단적인 값에 민감\n",
    "\n",
    " - 최대/최소 2개의 값만 사용\n",
    " - 개별점수들이 다른 점수들과 얼마나 차이가 있는지 보는 게 아님 \n",
    " - 실제 데이터가 어떤 값들로 구성되어 있는지를 설명할 수 없다. \n",
    "\n",
    " 그래서 범위와 항상 같이 보는 것이 **산포도**"
   ]
  },
  {
   "cell_type": "code",
   "execution_count": null,
   "id": "016936fa",
   "metadata": {},
   "outputs": [
    {
     "data": {
      "text/plain": [
       "<matplotlib.collections.PathCollection at 0x1d61c617890>"
      ]
     },
     "execution_count": 21,
     "metadata": {},
     "output_type": "execute_result"
    },
    {
     "data": {
      "image/png": "[encoded data removed]",
      "text/plain": [
       "<Figure size 640x480 with 1 Axes>"
      ]
     },
     "metadata": {},
     "output_type": "display_data"
    }
   ],
   "source": [
    "\n",
    "# 정의:\n",
    "\n",
    "# matplotlib 라이브러리 안의 pyplot 모듈은 그래프를 “그림을 그리듯” 쉽게 그릴 수 있게 해 주는 명령 모음이야.\n",
    "\n",
    "import matplotlib.pyplot as plt\n",
    "plt.scatter(data, np.zeros_like(data))"
   ]
  },
  {
   "cell_type": "code",
   "execution_count": 22,
   "id": "3eda9b10",
   "metadata": {},
   "outputs": [
    {
     "data": {
      "text/html": [
       "<div>\n",
       "<style scoped>\n",
       "    .dataframe tbody tr th:only-of-type {\n",
       "        vertical-align: middle;\n",
       "    }\n",
       "\n",
       "    .dataframe tbody tr th {\n",
       "        vertical-align: top;\n",
       "    }\n",
       "\n",
       "    .dataframe thead th {\n",
       "        text-align: right;\n",
       "    }\n",
       "</style>\n",
       "<table border=\"1\" class=\"dataframe\">\n",
       "  <thead>\n",
       "    <tr style=\"text-align: right;\">\n",
       "      <th></th>\n",
       "      <th>sepal_length</th>\n",
       "      <th>sepal_width</th>\n",
       "      <th>petal_length</th>\n",
       "      <th>petal_width</th>\n",
       "      <th>species</th>\n",
       "    </tr>\n",
       "  </thead>\n",
       "  <tbody>\n",
       "    <tr>\n",
       "      <th>0</th>\n",
       "      <td>5.1</td>\n",
       "      <td>3.5</td>\n",
       "      <td>1.4</td>\n",
       "      <td>0.2</td>\n",
       "      <td>setosa</td>\n",
       "    </tr>\n",
       "    <tr>\n",
       "      <th>1</th>\n",
       "      <td>4.9</td>\n",
       "      <td>3.0</td>\n",
       "      <td>1.4</td>\n",
       "      <td>0.2</td>\n",
       "      <td>setosa</td>\n",
       "    </tr>\n",
       "    <tr>\n",
       "      <th>2</th>\n",
       "      <td>4.7</td>\n",
       "      <td>3.2</td>\n",
       "      <td>1.3</td>\n",
       "      <td>0.2</td>\n",
       "      <td>setosa</td>\n",
       "    </tr>\n",
       "    <tr>\n",
       "      <th>3</th>\n",
       "      <td>4.6</td>\n",
       "      <td>3.1</td>\n",
       "      <td>1.5</td>\n",
       "      <td>0.2</td>\n",
       "      <td>setosa</td>\n",
       "    </tr>\n",
       "    <tr>\n",
       "      <th>4</th>\n",
       "      <td>5.0</td>\n",
       "      <td>3.6</td>\n",
       "      <td>1.4</td>\n",
       "      <td>0.2</td>\n",
       "      <td>setosa</td>\n",
       "    </tr>\n",
       "  </tbody>\n",
       "</table>\n",
       "</div>"
      ],
      "text/plain": [
       "   sepal_length  sepal_width  petal_length  petal_width species\n",
       "0           5.1          3.5           1.4          0.2  setosa\n",
       "1           4.9          3.0           1.4          0.2  setosa\n",
       "2           4.7          3.2           1.3          0.2  setosa\n",
       "3           4.6          3.1           1.5          0.2  setosa\n",
       "4           5.0          3.6           1.4          0.2  setosa"
      ]
     },
     "execution_count": 22,
     "metadata": {},
     "output_type": "execute_result"
    }
   ],
   "source": [
    "import seaborn as sns\n",
    "yp_df = sns.load_dataset('iris')\n",
    "yp_df.head()"
   ]
  },
  {
   "cell_type": "code",
   "execution_count": null,
   "id": "843d3896",
   "metadata": {},
   "outputs": [
    {
     "data": {
      "text/plain": [
       "np.float64(3.6000000000000005)"
      ]
     },
     "execution_count": 28,
     "metadata": {},
     "output_type": "execute_result"
    }
   ],
   "source": [
    "yp_df['sepal_length'].max() - yp_df['sepal_length'].min()"
   ]
  },
  {
   "cell_type": "code",
   "execution_count": 31,
   "id": "6003b8e1",
   "metadata": {},
   "outputs": [
    {
     "name": "stdout",
     "output_type": "stream",
     "text": [
      "sepal_length    3.6\n",
      "sepal_width     2.4\n",
      "petal_length    5.9\n",
      "petal_width     2.4\n",
      "dtype: float64\n"
     ]
    }
   ],
   "source": [
    "# 모든 속성의 범위를 확인\n",
    "# 반복문\n",
    "\n",
    "numerical_df = yp_df.select_dtypes(include='number')\n",
    "range_result = numerical_df.max() - numerical_df.min()\n",
    "print(range_result)\n"
   ]
  },
  {
   "cell_type": "markdown",
   "id": "b610ba02",
   "metadata": {},
   "source": [
    "변동성이 가장 큰 속성은 petal_length입니다.\n",
    "petal_length와 petal_wigth가 sepal_length와\n",
    "sepal_width보다 상대적으로 변동성이 큽니다.\n",
    "\n",
    "모델 생성시에 다루어야 하는 속성으로 볼 수 있습니다. "
   ]
  },
  {
   "cell_type": "code",
   "execution_count": 38,
   "id": "150c1662",
   "metadata": {},
   "outputs": [
    {
     "data": {
      "image/png": "[encoded data removed]",
      "text/plain": [
       "<Figure size 640x480 with 2 Axes>"
      ]
     },
     "metadata": {},
     "output_type": "display_data"
    }
   ],
   "source": [
    "plt.figure()\n",
    "\n",
    "plt.subplot(1,2,1)\n",
    "plt.scatter(yp_df['petal_length'] , yp_df['petal_width'], color = 'green')\n",
    "\n",
    "plt.subplot(1,2,2)\n",
    "plt.scatter(yp_df['sepal_length'] , yp_df['sepal_width'])\n",
    "\n",
    "plt.tight_layout\n",
    "plt.show()"
   ]
  },
  {
   "cell_type": "code",
   "execution_count": null,
   "id": "7a2e6832",
   "metadata": {},
   "outputs": [
    {
     "data": {
      "image/png": "[encoded data removed]",
      "text/plain": [
       "<Figure size 1200x500 with 2 Axes>"
      ]
     },
     "metadata": {},
     "output_type": "display_data"
    }
   ],
   "source": [
    "# 산포도로 변동성 확인하기\n",
    "#petal_length와 petal_width\n",
    "#sepal_length와 sepal_width\n",
    "\n",
    "# 1행 2열짜리 그림 만들기\n",
    "plt.figure(figsize=(12, 5))  # 크기를 넉넉하게\n",
    "\n",
    "# 첫 번째 플롯\n",
    "plt.subplot(1, 2, 1)\n",
    "plt.scatter(yp_df['petal_length'], yp_df['petal_width'], color='blue')\n",
    "plt.title('Petal Length vs Petal Length')\n",
    "plt.xlabel('Petal Length')\n",
    "plt.ylabel('Petal Length')\n",
    "\n",
    "# 두 번째 플롯\n",
    "plt.subplot(1, 2, 2)\n",
    "plt.scatter(yp_df['sepal_length'], yp_df['sepal_width'], color='green')\n",
    "plt.title('Sepal Length vs Sepal Length')\n",
    "plt.xlabel('Sepal Length')\n",
    "plt.ylabel('Sepal Length')\n",
    "\n",
    "# 모두 보여주기\n",
    "plt.tight_layout()\n",
    "plt.show()\n"
   ]
  },
  {
   "cell_type": "markdown",
   "id": "0852fb12",
   "metadata": {},
   "source": [
    "산포도를 이용해 극단적으로 다른 데이터(이상치)가 있는지 확인해야 한다."
   ]
  },
  {
   "cell_type": "markdown",
   "id": "427ace31",
   "metadata": {},
   "source": [
    "# 5️⃣ 분산 ('평균을 기준으로 해서 이만큼씩 떨어져 있다')\n",
    "\n",
    "평균을 중심으로 데이터가 밀집되거나 퍼져 있는 정도를 나타내는 척도\n",
    "\n",
    "- 표준편차는 원래의 단위로 표시됨 (편차의 제곱을 합산한 값의 평균에 제곱근을 취하기 때문)\n",
    "- 분산은 제곱된 단위로 표시됨 (제곱근을 취하지 않음)\n",
    "- 예를 들어 회로기판 조립 작업자들의 생산성 변동성 측정 시, 표준편차는 실제 생산 단위로 해석 가능"
   ]
  },
  {
   "cell_type": "code",
   "execution_count": 40,
   "id": "a1ede4d4",
   "metadata": {},
   "outputs": [
    {
     "name": "stdout",
     "output_type": "stream",
     "text": [
      "200.0\n"
     ]
    }
   ],
   "source": [
    "import numpy as np\n",
    "\n",
    "data = [10, 20, 30, 40, 50]\n",
    "variance_value = np.var(data)\n",
    "print(variance_value)  # 200.0"
   ]
  },
  {
   "cell_type": "markdown",
   "id": "10d55e6f",
   "metadata": {},
   "source": [
    "# 표준편차"
   ]
  },
  {
   "cell_type": "code",
   "execution_count": 42,
   "id": "7189597a",
   "metadata": {},
   "outputs": [
    {
     "name": "stdout",
     "output_type": "stream",
     "text": [
      "14.142135623730951\n"
     ]
    }
   ],
   "source": [
    "import numpy as np\n",
    "\n",
    "std_dev = np.std(data)\n",
    "print(std_dev)  # 14.14"
   ]
  },
  {
   "cell_type": "code",
   "execution_count": 45,
   "id": "5b0a13e7",
   "metadata": {},
   "outputs": [],
   "source": [
    "\"# sd의 비교\"\n",
    "import numpy as np\n",
    "import matplotlib.pyplot as plt\n",
    "\n",
    "# 평균과 표준편차 설정\n",
    "mu = 100\n",
    "sd1 = 10\n",
    "sd2 = 50\n",
    "\n",
    "# 정규분포 데이터 생성\n",
    "data1 = np.random.normal(mu, sd1, 10000)\n",
    "data2 = np.random.normal(mu, sd2, 10000)"
   ]
  },
  {
   "cell_type": "code",
   "execution_count": 47,
   "id": "84d21474",
   "metadata": {},
   "outputs": [
    {
     "data": {
      "text/plain": [
       "array([  0,  10,  20,  30,  40,  50,  60,  70,  80,  90, 100, 110, 120,\n",
       "       130, 140, 150, 160, 170, 180, 190, 200, 210, 220, 230])"
      ]
     },
     "execution_count": 47,
     "metadata": {},
     "output_type": "execute_result"
    }
   ],
   "source": [
    "bins = np.arange(0,240,10)\n",
    "bins"
   ]
  },
  {
   "cell_type": "code",
   "execution_count": 51,
   "id": "bd489ab1",
   "metadata": {},
   "outputs": [
    {
     "data": {
      "text/plain": [
       "<matplotlib.lines.Line2D at 0x1d6255c0f20>"
      ]
     },
     "execution_count": 51,
     "metadata": {},
     "output_type": "execute_result"
    },
    {
     "data": {
      "image/png": "[encoded data removed]",
      "text/plain": [
       "<Figure size 640x480 with 1 Axes>"
      ]
     },
     "metadata": {},
     "output_type": "display_data"
    }
   ],
   "source": [
    "plt.figure\n",
    "\n",
    "\n",
    "plt.hist(data1, bins=bins, color = 'red', alpha=0.5)\n",
    "plt.hist(data2, bins=bins, color = 'blue', alpha=0.5)\n",
    "\n",
    "# 평균\n",
    "plt.axvline(mu, color = 'blue', linestyle= '--')"
   ]
  },
  {
   "cell_type": "code",
   "execution_count": 67,
   "id": "efda48c3",
   "metadata": {},
   "outputs": [
    {
     "data": {
      "image/png": "[encoded data removed]",
      "text/plain": [
       "<Figure size 1000x600 with 4 Axes>"
      ]
     },
     "metadata": {},
     "output_type": "display_data"
    }
   ],
   "source": [
    "#iris dataset 의 속성들의 표준편차 비교분석\n",
    "\n",
    "#petal_length와 petal_width\n",
    "#sepal_length와 sepal_width\n",
    "\n",
    "plt.figure(figsize=(10,6))\n",
    "\n",
    "plt.subplot(1,2,1)\n",
    "plt.hist(yp_df['petal_width'], bins=15)\n",
    "plt.title('petal_width')\n",
    "\n",
    "plt.subplot(1,2,2)\n",
    "plt.hist(yp_df['petal_length'], bins=15)\n",
    "plt.title('petal_length')\n",
    "\n",
    "plt.subplot(2,2,1)\n",
    "plt.hist(yp_df['sepal_width'], bins=15)\n",
    "plt.title('sepal_width')\n",
    "\n",
    "plt.subplot(2,2,2)\n",
    "plt.hist(yp_df['sepal_length'], bins=15)\n",
    "plt.title('sepal_length')\n",
    "\n",
    "# 모두 보여주기\n",
    "plt.tight_layout()\n",
    "plt.show()"
   ]
  },
  {
   "cell_type": "markdown",
   "id": "f6c239cb",
   "metadata": {},
   "source": [
    "# 사분위수 범위"
   ]
  },
  {
   "cell_type": "code",
   "execution_count": null,
   "id": "bee4b1b2",
   "metadata": {},
   "outputs": [
    {
     "ename": "TypeError",
     "evalue": "'<' not supported between instances of 'str' and 'float'",
     "output_type": "error",
     "traceback": [
      "\u001b[31m---------------------------------------------------------------------------\u001b[39m",
      "\u001b[31mTypeError\u001b[39m                                 Traceback (most recent call last)",
      "\u001b[36mCell\u001b[39m\u001b[36m \u001b[39m\u001b[32mIn[69]\u001b[39m\u001b[32m, line 1\u001b[39m\n\u001b[32m----> \u001b[39m\u001b[32m1\u001b[39m p25 = np.percentile(yp_df, \u001b[32m25\u001b[39m) \u001b[38;5;66;03m# Q1 25번째 백분위수\u001b[39;00m\n\u001b[32m      2\u001b[39m p50 = np.percentile(yp_df, \u001b[32m50\u001b[39m) \u001b[38;5;66;03m# Q2 50번째 백분위수\u001b[39;00m\n\u001b[32m      3\u001b[39m p75 = np.percentile(yp_df, \u001b[32m75\u001b[39m)\n",
      "\u001b[36mFile \u001b[39m\u001b[32mc:\\Users\\Admin\\miniconda3\\envs\\hipython\\Lib\\site-packages\\numpy\\lib\\_function_base_impl.py:4290\u001b[39m, in \u001b[36mpercentile\u001b[39m\u001b[34m(a, q, axis, out, overwrite_input, method, keepdims, weights, interpolation)\u001b[39m\n\u001b[32m   4287\u001b[39m     \u001b[38;5;28;01mif\u001b[39;00m np.any(weights < \u001b[32m0\u001b[39m):\n\u001b[32m   4288\u001b[39m         \u001b[38;5;28;01mraise\u001b[39;00m \u001b[38;5;167;01mValueError\u001b[39;00m(\u001b[33m\"\u001b[39m\u001b[33mWeights must be non-negative.\u001b[39m\u001b[33m\"\u001b[39m)\n\u001b[32m-> \u001b[39m\u001b[32m4290\u001b[39m \u001b[38;5;28;01mreturn\u001b[39;00m _quantile_unchecked(\n\u001b[32m   4291\u001b[39m     a, q, axis, out, overwrite_input, method, keepdims, weights)\n",
      "\u001b[36mFile \u001b[39m\u001b[32mc:\\Users\\Admin\\miniconda3\\envs\\hipython\\Lib\\site-packages\\numpy\\lib\\_function_base_impl.py:4567\u001b[39m, in \u001b[36m_quantile_unchecked\u001b[39m\u001b[34m(a, q, axis, out, overwrite_input, method, keepdims, weights)\u001b[39m\n\u001b[32m   4558\u001b[39m \u001b[38;5;28;01mdef\u001b[39;00m\u001b[38;5;250m \u001b[39m\u001b[34m_quantile_unchecked\u001b[39m(a,\n\u001b[32m   4559\u001b[39m                         q,\n\u001b[32m   4560\u001b[39m                         axis=\u001b[38;5;28;01mNone\u001b[39;00m,\n\u001b[32m   (...)\u001b[39m\u001b[32m   4564\u001b[39m                         keepdims=\u001b[38;5;28;01mFalse\u001b[39;00m,\n\u001b[32m   4565\u001b[39m                         weights=\u001b[38;5;28;01mNone\u001b[39;00m):\n\u001b[32m   4566\u001b[39m \u001b[38;5;250m    \u001b[39m\u001b[33;03m\"\"\"Assumes that q is in [0, 1], and is an ndarray\"\"\"\u001b[39;00m\n\u001b[32m-> \u001b[39m\u001b[32m4567\u001b[39m     \u001b[38;5;28;01mreturn\u001b[39;00m _ureduce(a,\n\u001b[32m   4568\u001b[39m                     func=_quantile_ureduce_func,\n\u001b[32m   4569\u001b[39m                     q=q,\n\u001b[32m   4570\u001b[39m                     weights=weights,\n\u001b[32m   4571\u001b[39m                     keepdims=keepdims,\n\u001b[32m   4572\u001b[39m                     axis=axis,\n\u001b[32m   4573\u001b[39m                     out=out,\n\u001b[32m   4574\u001b[39m                     overwrite_input=overwrite_input,\n\u001b[32m   4575\u001b[39m                     method=method)\n",
      "\u001b[36mFile \u001b[39m\u001b[32mc:\\Users\\Admin\\miniconda3\\envs\\hipython\\Lib\\site-packages\\numpy\\lib\\_function_base_impl.py:3912\u001b[39m, in \u001b[36m_ureduce\u001b[39m\u001b[34m(a, func, keepdims, **kwargs)\u001b[39m\n\u001b[32m   3909\u001b[39m     index_out = (\u001b[32m0\u001b[39m, ) * nd\n\u001b[32m   3910\u001b[39m     kwargs[\u001b[33m'\u001b[39m\u001b[33mout\u001b[39m\u001b[33m'\u001b[39m] = out[(\u001b[38;5;28mEllipsis\u001b[39m, ) + index_out]\n\u001b[32m-> \u001b[39m\u001b[32m3912\u001b[39m r = func(a, **kwargs)\n\u001b[32m   3914\u001b[39m \u001b[38;5;28;01mif\u001b[39;00m out \u001b[38;5;129;01mis\u001b[39;00m \u001b[38;5;129;01mnot\u001b[39;00m \u001b[38;5;28;01mNone\u001b[39;00m:\n\u001b[32m   3915\u001b[39m     \u001b[38;5;28;01mreturn\u001b[39;00m out\n",
      "\u001b[36mFile \u001b[39m\u001b[32mc:\\Users\\Admin\\miniconda3\\envs\\hipython\\Lib\\site-packages\\numpy\\lib\\_function_base_impl.py:4742\u001b[39m, in \u001b[36m_quantile_ureduce_func\u001b[39m\u001b[34m(a, q, weights, axis, out, overwrite_input, method)\u001b[39m\n\u001b[32m   4740\u001b[39m     arr = a.copy()\n\u001b[32m   4741\u001b[39m     wgt = weights\n\u001b[32m-> \u001b[39m\u001b[32m4742\u001b[39m result = _quantile(arr,\n\u001b[32m   4743\u001b[39m                    quantiles=q,\n\u001b[32m   4744\u001b[39m                    axis=axis,\n\u001b[32m   4745\u001b[39m                    method=method,\n\u001b[32m   4746\u001b[39m                    out=out,\n\u001b[32m   4747\u001b[39m                    weights=wgt)\n\u001b[32m   4748\u001b[39m \u001b[38;5;28;01mreturn\u001b[39;00m result\n",
      "\u001b[36mFile \u001b[39m\u001b[32mc:\\Users\\Admin\\miniconda3\\envs\\hipython\\Lib\\site-packages\\numpy\\lib\\_function_base_impl.py:4857\u001b[39m, in \u001b[36m_quantile\u001b[39m\u001b[34m(arr, quantiles, axis, method, out, weights)\u001b[39m\n\u001b[32m   4853\u001b[39m previous_indexes, next_indexes = _get_indexes(arr,\n\u001b[32m   4854\u001b[39m                                               virtual_indexes,\n\u001b[32m   4855\u001b[39m                                               values_count)\n\u001b[32m   4856\u001b[39m \u001b[38;5;66;03m# --- Sorting\u001b[39;00m\n\u001b[32m-> \u001b[39m\u001b[32m4857\u001b[39m arr.partition(\n\u001b[32m   4858\u001b[39m     np.unique(np.concatenate(([\u001b[32m0\u001b[39m, -\u001b[32m1\u001b[39m],\n\u001b[32m   4859\u001b[39m                               previous_indexes.ravel(),\n\u001b[32m   4860\u001b[39m                               next_indexes.ravel(),\n\u001b[32m   4861\u001b[39m                               ))),\n\u001b[32m   4862\u001b[39m     axis=\u001b[32m0\u001b[39m)\n\u001b[32m   4863\u001b[39m \u001b[38;5;28;01mif\u001b[39;00m supports_nans:\n\u001b[32m   4864\u001b[39m     slices_having_nans = np.isnan(arr[-\u001b[32m1\u001b[39m, ...])\n",
      "\u001b[31mTypeError\u001b[39m: '<' not supported between instances of 'str' and 'float'"
     ]
    }
   ],
   "source": [
    "p25 = np.percentile(yp_df[], 25) # Q1 25번째 백분위수\n",
    "p50 = np.percentile(yp_df, 50) # Q2 50번째 백분위수\n",
    "p75 = np.percentile(yp_df, 75) # Q3 75번째 백분위수"
   ]
  },
  {
   "cell_type": "markdown",
   "id": "7e268f0c",
   "metadata": {},
   "source": [
    "가장 분산이 큰 변수 : petal_length   \n",
    "가장 분산이 작은 변수 : sepal_width   \n",
    "품종을 분류할 때, petal_length가 민감하게 작용할 것이다.   \n",
    "식별력이 크다 .   \n",
    "\n",
    "**IQR > 이상치의 허용범위가 크다**"
   ]
  },
  {
   "cell_type": "markdown",
   "id": "51a406cd",
   "metadata": {},
   "source": [
    "# 분포의 모양, 형태\n",
    "\n",
    "- 모양이 정규분포인지 확인필요\n",
    "- 치우쳐져 있는가  [좌/우] , [위/아래]\n",
    "- 특이한 패턴이 있는가? ex) 봉우리가 두개인지? "
   ]
  },
  {
   "cell_type": "markdown",
   "id": "c23b610b",
   "metadata": {},
   "source": [
    "**빈도분포표**\n",
    "- 특정 점수가 얼마나 자주 발생하는지를 집계하여 나타내는 도구\n",
    "- 점수는 일반적으로 계급 구간(class interval) 또는 숫자 범위로 그룹화"
   ]
  },
  {
   "cell_type": "code",
   "execution_count": 71,
   "id": "a8a5bbc2",
   "metadata": {},
   "outputs": [
    {
     "data": {
      "text/html": [
       "<div>\n",
       "<style scoped>\n",
       "    .dataframe tbody tr th:only-of-type {\n",
       "        vertical-align: middle;\n",
       "    }\n",
       "\n",
       "    .dataframe tbody tr th {\n",
       "        vertical-align: top;\n",
       "    }\n",
       "\n",
       "    .dataframe thead th {\n",
       "        text-align: right;\n",
       "    }\n",
       "</style>\n",
       "<table border=\"1\" class=\"dataframe\">\n",
       "  <thead>\n",
       "    <tr style=\"text-align: right;\">\n",
       "      <th></th>\n",
       "      <th>A</th>\n",
       "      <th>B</th>\n",
       "      <th>C</th>\n",
       "      <th>D</th>\n",
       "      <th>E</th>\n",
       "    </tr>\n",
       "  </thead>\n",
       "  <tbody>\n",
       "    <tr>\n",
       "      <th>0</th>\n",
       "      <td>47</td>\n",
       "      <td>10</td>\n",
       "      <td>31</td>\n",
       "      <td>25</td>\n",
       "      <td>20</td>\n",
       "    </tr>\n",
       "    <tr>\n",
       "      <th>1</th>\n",
       "      <td>2</td>\n",
       "      <td>11</td>\n",
       "      <td>31</td>\n",
       "      <td>25</td>\n",
       "      <td>21</td>\n",
       "    </tr>\n",
       "    <tr>\n",
       "      <th>2</th>\n",
       "      <td>44</td>\n",
       "      <td>14</td>\n",
       "      <td>15</td>\n",
       "      <td>26</td>\n",
       "      <td>21</td>\n",
       "    </tr>\n",
       "    <tr>\n",
       "      <th>3</th>\n",
       "      <td>41</td>\n",
       "      <td>14</td>\n",
       "      <td>16</td>\n",
       "      <td>26</td>\n",
       "      <td>21</td>\n",
       "    </tr>\n",
       "    <tr>\n",
       "      <th>4</th>\n",
       "      <td>7</td>\n",
       "      <td>30</td>\n",
       "      <td>17</td>\n",
       "      <td>27</td>\n",
       "      <td>24</td>\n",
       "    </tr>\n",
       "    <tr>\n",
       "      <th>5</th>\n",
       "      <td>6</td>\n",
       "      <td>30</td>\n",
       "      <td>16</td>\n",
       "      <td>29</td>\n",
       "      <td>24</td>\n",
       "    </tr>\n",
       "    <tr>\n",
       "      <th>6</th>\n",
       "      <td>35</td>\n",
       "      <td>32</td>\n",
       "      <td>15</td>\n",
       "      <td>29</td>\n",
       "      <td>23</td>\n",
       "    </tr>\n",
       "    <tr>\n",
       "      <th>7</th>\n",
       "      <td>38</td>\n",
       "      <td>33</td>\n",
       "      <td>19</td>\n",
       "      <td>28</td>\n",
       "      <td>20</td>\n",
       "    </tr>\n",
       "    <tr>\n",
       "      <th>8</th>\n",
       "      <td>35</td>\n",
       "      <td>34</td>\n",
       "      <td>18</td>\n",
       "      <td>29</td>\n",
       "      <td>21</td>\n",
       "    </tr>\n",
       "    <tr>\n",
       "      <th>9</th>\n",
       "      <td>36</td>\n",
       "      <td>32</td>\n",
       "      <td>16</td>\n",
       "      <td>27</td>\n",
       "      <td>20</td>\n",
       "    </tr>\n",
       "  </tbody>\n",
       "</table>\n",
       "</div>"
      ],
      "text/plain": [
       "    A   B   C   D   E\n",
       "0  47  10  31  25  20\n",
       "1   2  11  31  25  21\n",
       "2  44  14  15  26  21\n",
       "3  41  14  16  26  21\n",
       "4   7  30  17  27  24\n",
       "5   6  30  16  29  24\n",
       "6  35  32  15  29  23\n",
       "7  38  33  19  28  20\n",
       "8  35  34  18  29  21\n",
       "9  36  32  16  27  20"
      ]
     },
     "execution_count": 71,
     "metadata": {},
     "output_type": "execute_result"
    }
   ],
   "source": [
    "\"import pandas as pd\"\n",
    "import numpy as np\n",
    "\n",
    "# 데이터 입력\n",
    "data = [\n",
    "    [47, 10, 31, 25, 20],\n",
    "    [2, 11, 31, 25, 21],\n",
    "    [44, 14, 15, 26, 21],\n",
    "    [41, 14, 16, 26, 21],\n",
    "    [7, 30, 17, 27, 24],\n",
    "    [6, 30, 16, 29, 24],\n",
    "    [35, 32, 15, 29, 23],\n",
    "    [38, 33, 19, 28, 20],\n",
    "    [35, 34, 18, 29, 21],\n",
    "    [36, 32, 16, 27, 20],\n",
    "]\n",
    "\n",
    "# DataFrame으로 변환\n",
    "df = pd.DataFrame(data, columns=['A', 'B', 'C', 'D', 'E'])\n",
    "df"
   ]
  },
  {
   "cell_type": "markdown",
   "id": "2bcf30bc",
   "metadata": {},
   "source": [
    "- 각 변수의 분포 형태 : 5개의 변수 \n",
    "- 값의 범위, 도수가 많은 구간 (count) 빈도\n",
    "- 이상치 유무 "
   ]
  },
  {
   "cell_type": "code",
   "execution_count": null,
   "id": "4388e631",
   "metadata": {},
   "outputs": [
    {
     "data": {
      "text/plain": [
       "(array([2., 0., 2., 0., 2., 0., 1., 0., 3.]),\n",
       " array([25.        , 25.44444444, 25.88888889, 26.33333333, 26.77777778,\n",
       "        27.22222222, 27.66666667, 28.11111111, 28.55555556, 29.        ]),\n",
       " <BarContainer object of 9 artists>)"
      ]
     },
     "execution_count": 78,
     "metadata": {},
     "output_type": "execute_result"
    },
    {
     "data": {
      "image/png": "[encoded data removed]",
      "text/plain": [
       "<Figure size 640x480 with 1 Axes>"
      ]
     },
     "metadata": {},
     "output_type": "display_data"
    }
   ],
   "source": [
    "# 각 속성별로 히스토그램을 그리기\n",
    "\n",
    "plt.hist(df['A'], bins=9, alpha=0.5)\n",
    "plt.hist(df['B'], bins=9, alpha=0.5)\n",
    "plt.hist(df['C'], bins=9, alpha=0.5)\n",
    "plt.hist(df['D'], bins=9, alpha=0.5)\n",
    "\n",
    "\n"
   ]
  },
  {
   "cell_type": "code",
   "execution_count": 103,
   "id": "7a9a3d30",
   "metadata": {},
   "outputs": [
    {
     "data": {
      "image/png": "[encoded data removed]",
      "text/plain": [
       "<Figure size 640x480 with 5 Axes>"
      ]
     },
     "metadata": {},
     "output_type": "display_data"
    }
   ],
   "source": [
    "for i, col in enumerate(df):\n",
    "    plt.subplot(1,5,i+1)\n",
    "    plt.hist(df[col], bins=9 , alpha=0.5)\n",
    "    \n",
    "plt.tight_layout()\n",
    "plt.show()\n",
    "    \n",
    "    "
   ]
  },
  {
   "cell_type": "code",
   "execution_count": 83,
   "id": "cdc6375d",
   "metadata": {},
   "outputs": [
    {
     "name": "stdout",
     "output_type": "stream",
     "text": [
      "[-1.20858977 -1.72253932  0.04612341 -1.44440419 -1.05185185]\n"
     ]
    }
   ],
   "source": [
    "from scipy.stats import kurtosis\n",
    "\n",
    "kurtosis_value = kurtosis(data)\n",
    "print(kurtosis_value)"
   ]
  },
  {
   "cell_type": "code",
   "execution_count": 100,
   "id": "610ac479",
   "metadata": {},
   "outputs": [
    {
     "data": {
      "text/plain": [
       "[[47, 10, 31, 25, 20],\n",
       " [2, 11, 31, 25, 21],\n",
       " [44, 14, 15, 26, 21],\n",
       " [41, 14, 16, 26, 21],\n",
       " [7, 30, 17, 27, 24],\n",
       " [6, 30, 16, 29, 24],\n",
       " [35, 32, 15, 29, 23],\n",
       " [38, 33, 19, 28, 20],\n",
       " [35, 34, 18, 29, 21],\n",
       " [36, 32, 16, 27, 20]]"
      ]
     },
     "execution_count": 100,
     "metadata": {},
     "output_type": "execute_result"
    }
   ],
   "source": [
    "\n",
    "data"
   ]
  },
  {
   "cell_type": "code",
   "execution_count": 104,
   "id": "79d06dea",
   "metadata": {},
   "outputs": [
    {
     "data": {
      "text/plain": [
       "0      1.4\n",
       "1      1.4\n",
       "2      1.3\n",
       "3      1.5\n",
       "4      1.4\n",
       "      ... \n",
       "145    5.2\n",
       "146    5.0\n",
       "147    5.2\n",
       "148    5.4\n",
       "149    5.1\n",
       "Name: petal_length, Length: 150, dtype: float64"
      ]
     },
     "execution_count": 104,
     "metadata": {},
     "output_type": "execute_result"
    }
   ],
   "source": [
    "yp_df['petal_length']"
   ]
  },
  {
   "cell_type": "markdown",
   "id": "9b5b59f4",
   "metadata": {},
   "source": [
    "정규 분포   \n",
    "양의 첨도 : 정규분포보다 그만큼 뾰족하다 > 꼬리가 두껍다   \n",
    "음의 첨도 : 정규분포보다 그만큼 늘려있다 > 꼬리가 얇다    \n"
   ]
  },
  {
   "cell_type": "code",
   "execution_count": 102,
   "id": "7b9481a4",
   "metadata": {},
   "outputs": [
    {
     "name": "stdout",
     "output_type": "stream",
     "text": [
      "sepal_length : -0.5735679489249765\n",
      "sepal_width : 0.18097631752246768\n",
      "petal_length : -1.3955358863990055\n",
      "petal_width : -1.336067405231553\n"
     ]
    }
   ],
   "source": [
    "for i in yp_df.select_dtypes(include='number').columns:\n",
    "    print(f'{i} : {kurtosis(yp_df[i])}')"
   ]
  },
  {
   "cell_type": "code",
   "execution_count": null,
   "id": "6197f562",
   "metadata": {},
   "outputs": [
    {
     "data": {
      "text/html": [
       "<div>\n",
       "<style scoped>\n",
       "    .dataframe tbody tr th:only-of-type {\n",
       "        vertical-align: middle;\n",
       "    }\n",
       "\n",
       "    .dataframe tbody tr th {\n",
       "        vertical-align: top;\n",
       "    }\n",
       "\n",
       "    .dataframe thead th {\n",
       "        text-align: right;\n",
       "    }\n",
       "</style>\n",
       "<table border=\"1\" class=\"dataframe\">\n",
       "  <thead>\n",
       "    <tr style=\"text-align: right;\">\n",
       "      <th></th>\n",
       "      <th>sepal_length</th>\n",
       "      <th>sepal_width</th>\n",
       "      <th>petal_length</th>\n",
       "      <th>petal_width</th>\n",
       "      <th>species</th>\n",
       "    </tr>\n",
       "  </thead>\n",
       "  <tbody>\n",
       "    <tr>\n",
       "      <th>0</th>\n",
       "      <td>5.1</td>\n",
       "      <td>3.5</td>\n",
       "      <td>1.4</td>\n",
       "      <td>0.2</td>\n",
       "      <td>setosa</td>\n",
       "    </tr>\n",
       "    <tr>\n",
       "      <th>1</th>\n",
       "      <td>4.9</td>\n",
       "      <td>3.0</td>\n",
       "      <td>1.4</td>\n",
       "      <td>0.2</td>\n",
       "      <td>setosa</td>\n",
       "    </tr>\n",
       "    <tr>\n",
       "      <th>2</th>\n",
       "      <td>4.7</td>\n",
       "      <td>3.2</td>\n",
       "      <td>1.3</td>\n",
       "      <td>0.2</td>\n",
       "      <td>setosa</td>\n",
       "    </tr>\n",
       "    <tr>\n",
       "      <th>3</th>\n",
       "      <td>4.6</td>\n",
       "      <td>3.1</td>\n",
       "      <td>1.5</td>\n",
       "      <td>0.2</td>\n",
       "      <td>setosa</td>\n",
       "    </tr>\n",
       "    <tr>\n",
       "      <th>4</th>\n",
       "      <td>5.0</td>\n",
       "      <td>3.6</td>\n",
       "      <td>1.4</td>\n",
       "      <td>0.2</td>\n",
       "      <td>setosa</td>\n",
       "    </tr>\n",
       "    <tr>\n",
       "      <th>...</th>\n",
       "      <td>...</td>\n",
       "      <td>...</td>\n",
       "      <td>...</td>\n",
       "      <td>...</td>\n",
       "      <td>...</td>\n",
       "    </tr>\n",
       "    <tr>\n",
       "      <th>145</th>\n",
       "      <td>6.7</td>\n",
       "      <td>3.0</td>\n",
       "      <td>5.2</td>\n",
       "      <td>2.3</td>\n",
       "      <td>virginica</td>\n",
       "    </tr>\n",
       "    <tr>\n",
       "      <th>146</th>\n",
       "      <td>6.3</td>\n",
       "      <td>2.5</td>\n",
       "      <td>5.0</td>\n",
       "      <td>1.9</td>\n",
       "      <td>virginica</td>\n",
       "    </tr>\n",
       "    <tr>\n",
       "      <th>147</th>\n",
       "      <td>6.5</td>\n",
       "      <td>3.0</td>\n",
       "      <td>5.2</td>\n",
       "      <td>2.0</td>\n",
       "      <td>virginica</td>\n",
       "    </tr>\n",
       "    <tr>\n",
       "      <th>148</th>\n",
       "      <td>6.2</td>\n",
       "      <td>3.4</td>\n",
       "      <td>5.4</td>\n",
       "      <td>2.3</td>\n",
       "      <td>virginica</td>\n",
       "    </tr>\n",
       "    <tr>\n",
       "      <th>149</th>\n",
       "      <td>5.9</td>\n",
       "      <td>3.0</td>\n",
       "      <td>5.1</td>\n",
       "      <td>1.8</td>\n",
       "      <td>virginica</td>\n",
       "    </tr>\n",
       "  </tbody>\n",
       "</table>\n",
       "<p>150 rows × 5 columns</p>\n",
       "</div>"
      ],
      "text/plain": [
       "     sepal_length  sepal_width  petal_length  petal_width    species\n",
       "0             5.1          3.5           1.4          0.2     setosa\n",
       "1             4.9          3.0           1.4          0.2     setosa\n",
       "2             4.7          3.2           1.3          0.2     setosa\n",
       "3             4.6          3.1           1.5          0.2     setosa\n",
       "4             5.0          3.6           1.4          0.2     setosa\n",
       "..            ...          ...           ...          ...        ...\n",
       "145           6.7          3.0           5.2          2.3  virginica\n",
       "146           6.3          2.5           5.0          1.9  virginica\n",
       "147           6.5          3.0           5.2          2.0  virginica\n",
       "148           6.2          3.4           5.4          2.3  virginica\n",
       "149           5.9          3.0           5.1          1.8  virginica\n",
       "\n",
       "[150 rows x 5 columns]"
      ]
     },
     "execution_count": 106,
     "metadata": {},
     "output_type": "execute_result"
    }
   ],
   "source": [
    "for i in yp_df"
   ]
  },
  {
   "cell_type": "markdown",
   "id": "3019d013",
   "metadata": {},
   "source": [
    "양의 첨도 > 3 , 정규분포보다 뾰족하고, 꼬리가 두꺼워서 극단적인 값이 더 많다.   \n",
    "음의 첨도 <3 , 정규분포보다 평평하고, 꼬리가 얇아서, 극단적인 값이 덜 발생한다."
   ]
  },
  {
   "cell_type": "code",
   "execution_count": 101,
   "id": "e972528f",
   "metadata": {},
   "outputs": [
    {
     "data": {
      "text/plain": [
       "0      1.4\n",
       "1      1.4\n",
       "2      1.3\n",
       "3      1.5\n",
       "4      1.4\n",
       "      ... \n",
       "145    5.2\n",
       "146    5.0\n",
       "147    5.2\n",
       "148    5.4\n",
       "149    5.1\n",
       "Name: petal_length, Length: 150, dtype: float64"
      ]
     },
     "execution_count": 101,
     "metadata": {},
     "output_type": "execute_result"
    }
   ],
   "source": [
    "yp_df['petal_length']"
   ]
  },
  {
   "cell_type": "code",
   "execution_count": 57,
   "id": "5a6e0dcc",
   "metadata": {},
   "outputs": [
    {
     "data": {
      "text/plain": [
       "0      1.4\n",
       "1      1.4\n",
       "2      1.3\n",
       "3      1.5\n",
       "4      1.4\n",
       "      ... \n",
       "145    5.2\n",
       "146    5.0\n",
       "147    5.2\n",
       "148    5.4\n",
       "149    5.1\n",
       "Name: petal_length, Length: 150, dtype: float64"
      ]
     },
     "execution_count": 57,
     "metadata": {},
     "output_type": "execute_result"
    }
   ],
   "source": [
    "yp_df['petal_length']"
   ]
  },
  {
   "cell_type": "markdown",
   "id": "4976e5ae",
   "metadata": {},
   "source": [
    "# 6️⃣ 왜도 \n",
    "분포의 비대칭성을 측정하는 지표, 데이터가 좌우 어느 방향으로 치우쳐 있는지 측정\n",
    "\n",
    "꼬리가 길어지는 쪽이 이상치 값이 생겨서 길어지는 거임 그래서 이상치가 있는 쪽으로 평균이 기울어짐 \n",
    "**그래서** 꼬리가 길어진 쪽에 따라 양의왜도, 음의왜도가 생김"
   ]
  },
  {
   "cell_type": "code",
   "execution_count": 108,
   "id": "3b3ba635",
   "metadata": {},
   "outputs": [
    {
     "name": "stdout",
     "output_type": "stream",
     "text": [
      "1.1384199576606167\n"
     ]
    }
   ],
   "source": [
    "from scipy.stats import skew\n",
    "\n",
    "data = [10, 20, 30, 40, 100]  # 오른쪽으로 치우친 데이터\n",
    "skew_value = skew(data)\n",
    "print(skew_value)  # 양수 (오른쪽 꼬리)"
   ]
  },
  {
   "cell_type": "markdown",
   "id": "0d76a985",
   "metadata": {},
   "source": [
    "# 1️⃣2️⃣3️⃣4️⃣5️⃣6️⃣7️⃣8️⃣9️⃣🔟*️⃣"
   ]
  },
  {
   "cell_type": "markdown",
   "id": "96a8f568",
   "metadata": {},
   "source": [
    "\n",
    "# 1️⃣2️⃣3️⃣4️⃣5️⃣6️⃣7️⃣8️⃣9️⃣🔟*️⃣"
   ]
  }
 ],
 "metadata": {
  "kernelspec": {
   "display_name": "hipython",
   "language": "python",
   "name": "python3"
  },
  "language_info": {
   "codemirror_mode": {
    "name": "ipython",
    "version": 3
   },
   "file_extension": ".py",
   "mimetype": "text/x-python",
   "name": "python",
   "nbconvert_exporter": "python",
   "pygments_lexer": "ipython3",
   "version": "3.12.9"
  }
 },
 "nbformat": 4,
 "nbformat_minor": 5
}
