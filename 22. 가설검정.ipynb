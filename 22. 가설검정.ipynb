{
 "cells": [
  {
   "cell_type": "markdown",
   "id": "84211305",
   "metadata": {},
   "source": [
    "0️⃣1️⃣2️⃣3️⃣4️⃣5️⃣6️⃣7️⃣8️⃣9️⃣🔟"
   ]
  },
  {
   "cell_type": "markdown",
   "id": "059a84f2",
   "metadata": {
    "vscode": {
     "languageId": "plaintext"
    }
   },
   "source": [
    "# 귀무가설"
   ]
  },
  {
   "cell_type": "code",
   "execution_count": 2,
   "id": "60e333aa",
   "metadata": {},
   "outputs": [],
   "source": [
    "import numpy as np\n",
    "import pandas as pd\n",
    "import matplotlib.pyplot as plt\n",
    "import scipy.stats as stats\n",
    "%matplotlib inline\n",
    "plt.rc('figure', figsize=(10, 6))\n",
    "from matplotlib import rcParams\n",
    "rcParams['font.family'] = 'Noto Sans KR'\n",
    "rcParams['font.size'] = 10\n",
    "rcParams['axes.unicode_minus'] = False"
   ]
  },
  {
   "cell_type": "code",
   "execution_count": 9,
   "id": "033ecd04",
   "metadata": {},
   "outputs": [
    {
     "name": "stdout",
     "output_type": "stream",
     "text": [
      "평균 : 70.08573280308887\n",
      "p-value : 0.953913826658112\n",
      "검정결과 : 귀무가설 채택\n",
      "대한민국 남성의 평균 몸무게는 70kg이다\n"
     ]
    }
   ],
   "source": [
    "#  1. 가설검정 단계\n",
    "    # H0 : 대한민국 남성의 평균 몸무게는 70킬로그램이다(차이가 없다)\n",
    "    # H1 : 대한민국 남성의 평균 몸무게는 70킬로그램이 아니다 (차이가 있다)\n",
    "\n",
    "\n",
    "#  2. 통계량 산출 - 데이터 수집\n",
    "np.random.seed(123)\n",
    "weight = np.random.uniform(40, 100, 100)\n",
    "\n",
    "test_result = stats.ttest_1samp(weight, 70)\n",
    "print(f'평균 : {np.mean(weight)}')\n",
    "print(f'p-value : {test_result.pvalue}')\n",
    "\n",
    "#  3. 기각/채택 여부 판단\n",
    "print(f'검정결과 : {'귀무가설 기각' if test_result.pvalue<0.05 else '귀무가설 채택'}')\n",
    "#  4. 결정\n",
    "if test_result.pvalue<0.05:\n",
    "    print('대한민국 남성의 평균 몸무게는 70kg이 아니다')\n",
    "else :\n",
    "    print('대한민국 남성의 평균 몸무게는 70kg이다')    "
   ]
  },
  {
   "cell_type": "markdown",
   "id": "ebf37714",
   "metadata": {},
   "source": [
    "# 2️⃣ T검정"
   ]
  },
  {
   "cell_type": "markdown",
   "id": "b2097ea1",
   "metadata": {},
   "source": [
    "### 예제 1: 평균 비교 - 일표본(단표본) t검정\n",
    "\n",
    "**문제:** 하루 커피 섭취량이 평균 2.5잔이라고 알려져 있다. 실제 설문조사에서 2.8잔이 나왔다. 과연 차이가 통계적으로 유의한가?"
   ]
  },
  {
   "cell_type": "code",
   "execution_count": 4,
   "id": "ad39097e",
   "metadata": {},
   "outputs": [
    {
     "name": "stdout",
     "output_type": "stream",
     "text": [
      "t값 = 7.031, p값 = 0.0000000986\n"
     ]
    }
   ],
   "source": [
    "# 표본 데이터 (30명)\n",
    "coffee_data = [2.9, 2.4, 2.7, 3.0, 2.6, 2.8, 2.9, 3.1, 2.7, 2.6,\n",
    "               2.8, 2.5, 3.2, 3.0, 2.4, 2.6, 2.7, 3.1, 2.8, 2.7,\n",
    "               2.5, 2.9, 2.6, 2.8, 2.9, 2.5, 2.7, 2.8, 3.0, 2.9]\n",
    "\n",
    "# 단일표본 t-검정\n",
    "t_stat, p_value = stats.ttest_1samp(coffee_data, popmean=2.5) #popmean 비교할 평균 \n",
    "\n",
    "print(f\"t값 = {t_stat:.3f}, p값 = {p_value:.10f}\")"
   ]
  },
  {
   "cell_type": "markdown",
   "id": "e2443f3e",
   "metadata": {},
   "source": [
    "t값은 표본과 모집단 평균 간 차이가 표준오차의 7배라는 통계량\n",
    "-> 표본 평균이 모집단 2.5에서 7*표준오차 만큼 떨어져 있다.\n",
    "-> 매우 큰 차이를 보인다.   \n",
    "\n",
    "이 통계량은 p-value < 0.05 이므로 통계적으로 유의한 차이가 있다고 할 수 있습니다.\n",
    "\n",
    "\n",
    "기존 귀무가설의 내용가 차이가 없다(귀무가설 선택)\n"
   ]
  },
  {
   "cell_type": "markdown",
   "id": "1dadeefc",
   "metadata": {},
   "source": [
    "### 예제 2: 두 그룹 비교 - 이표본(독립표본) t검정\n",
    "\n",
    "**문제:**\n",
    "H0 :  A와 B 수업의 시험 평균 점수가 차이가 없다\n",
    "H1 :  A와 B 수업의 시험 평균 점수 차이가 있다"
   ]
  },
  {
   "cell_type": "code",
   "execution_count": null,
   "id": "7da4cb31",
   "metadata": {},
   "outputs": [
    {
     "name": "stdout",
     "output_type": "stream",
     "text": [
      "t값 = 5.331, p값 = 0.0000604698\n"
     ]
    }
   ],
   "source": [
    "group_A = [78, 85, 82, 88, 76, 81, 79, 84, 82, 80]\n",
    "group_B = [72, 75, 78, 74, 71, 77, 70, 76, 75, 73]\n",
    "\n",
    "t_stat, p_value = stats.ttest_ind(group_A, group_B, equal_var=False) #ind 함수 / equal_var :다르다고 주장 \n",
    "print(f\"t값 = {t_stat:.3f}, p값 = {p_value:.10f}\")"
   ]
  },
  {
   "cell_type": "markdown",
   "id": "98d170d1",
   "metadata": {},
   "source": [
    "H0 :  A와 B 수업의 시험 평균 점수가 차이가 없다   \n",
    "H1 :  A와 B 수업의 시험 평균 점수 차이가 있다\n",
    "\n",
    "통계량: 5.331, 표준오차의 5배 정도 차이가 난다 \n",
    "유의확률: 0.00006 < 0.05 보다 작다 -> 귀무가설 기각 \n",
    "\n",
    "귀무가설을 기각/채택 : 귀무가설을 기각한다.\n",
    "결론 : 두 그룹의 평균은 유의미하게 차이가 있다.\n",
    "\n"
   ]
  },
  {
   "cell_type": "markdown",
   "id": "e9eeb6ed",
   "metadata": {},
   "source": [
    "### 예제 3: 전후의 비교 -  대응 표본 T 검정  "
   ]
  },
  {
   "cell_type": "code",
   "execution_count": 7,
   "id": "c7c6e2b8",
   "metadata": {},
   "outputs": [
    {
     "name": "stdout",
     "output_type": "stream",
     "text": [
      "t값 = 25.327, p값 = 0.00000000\n"
     ]
    }
   ],
   "source": [
    "# 대응 표본 t-검정 예제: 약물 투여 전후 혈압 비교\n",
    "before = [120, 122, 143, 130, 135, 118, 127, 140, 132, 125]\n",
    "after = [115, 117, 138, 125, 129, 112, 120, 135, 126, 119]\n",
    "\n",
    "t_stat, p_value = stats.ttest_rel(before, after)\n",
    "print(f\"t값 = {t_stat:.3f}, p값 = {p_value:.8f}\")"
   ]
  },
  {
   "cell_type": "markdown",
   "id": "e1705665",
   "metadata": {},
   "source": [
    "H0 :  약물 투여의 혈압 변동은 차이가 없다 \n",
    "H1 :  약물 투여와 혈압 변동은 차이가 있다\n",
    "\n",
    "통계량: 25.32, 표준오차의 25배 정도 차이가 난다 \n",
    "유의확률: 0.00006 < 0.05 보다 작다 -> 귀무가설 기각 \n",
    "\n",
    "귀무가설을 기각/채택 : 귀무가설을 기각한다.\n",
    "결론 : 두 그룹의 평균은 유의미하게 차이가 있다.\n",
    "\n"
   ]
  },
  {
   "cell_type": "markdown",
   "id": "30e6941e",
   "metadata": {},
   "source": [
    "### ### 예제 4: 범주형 변수 - 카이제곱 검정\n",
    "\n",
    "**문제:** 성별에 따라 커피를 더 선호하는지?"
   ]
  },
  {
   "cell_type": "code",
   "execution_count": 10,
   "id": "22e401fd",
   "metadata": {},
   "outputs": [
    {
     "name": "stdout",
     "output_type": "stream",
     "text": [
      "chi2 = 3.857, p값 = 0.04953461\n"
     ]
    }
   ],
   "source": [
    "import numpy as np\n",
    "obs = np.array([[40, 10],  # 남자 (좋아함, 안좋아함) 교차표\n",
    "                [30, 20]]) # 여자\n",
    "\n",
    "chi2, p, dof, expected = stats.chi2_contingency(obs)\n",
    "print(f\"chi2 = {chi2:.3f}, p값 = {p:.8f}\")"
   ]
  },
  {
   "cell_type": "markdown",
   "id": "afb14731",
   "metadata": {},
   "source": [
    "H0 :  성별에 따라 커피 선호도의 차이는 없다 . \n",
    "H1 :  성별에 따라 커피 선호도의 차이는 있다.\n",
    "\n",
    "통계량: 3.857, 표준오차의 3배 정도 차이가 난다 \n",
    "유의확률: 0.00006 < 0.05 보다 작다 -> 귀무가설 기각 \n",
    "\n",
    "귀무가설을 기각/채택 : 귀무가설을 기각한다.\n",
    "결론 : 두 그룹의 평균은 유의미하게 차이가 있다.\n",
    "\n"
   ]
  },
  {
   "cell_type": "code",
   "execution_count": 11,
   "id": "10041a03",
   "metadata": {},
   "outputs": [
    {
     "name": "stdout",
     "output_type": "stream",
     "text": [
      "F값: 24.28, p값: 0.0013\n"
     ]
    }
   ],
   "source": [
    "from scipy.stats import f_oneway\n",
    "\n",
    "# 세 그룹의 점수\n",
    "group1 = [80, 85, 90]\n",
    "group2 = [70, 75, 78]\n",
    "group3 = [60, 65, 62]\n",
    "\n",
    "f_stat, p_value = f_oneway(group1, group2, group3)\n",
    "print(f\"F값: {f_stat:.2f}, p값: {p_value:.4f}\")"
   ]
  },
  {
   "cell_type": "markdown",
   "id": "bbb57c07",
   "metadata": {},
   "source": [
    "H0 :  세개 그룹의 평균은 차이가 없다. 같다   \n",
    "H1 :  적어도 1개 그룹은 다르다 \n",
    "\n",
    "통계량: 24, 그룹간 분산의 차이가 그룹내 분산보다 크다\n",
    "유의확률: 0.00006 < 0.05 보다 작다 -> 귀무가설 기각 \n",
    "\n",
    "귀무가설을 기각/채택 : 귀무가설을 기각한다.\n",
    "결론 : 두 그룹의 평균은 유의미하게 차이가 있다.\n",
    "\n"
   ]
  }
 ],
 "metadata": {
  "kernelspec": {
   "display_name": "hipython",
   "language": "python",
   "name": "python3"
  },
  "language_info": {
   "codemirror_mode": {
    "name": "ipython",
    "version": 3
   },
   "file_extension": ".py",
   "mimetype": "text/x-python",
   "name": "python",
   "nbconvert_exporter": "python",
   "pygments_lexer": "ipython3",
   "version": "3.12.9"
  }
 },
 "nbformat": 4,
 "nbformat_minor": 5
}
