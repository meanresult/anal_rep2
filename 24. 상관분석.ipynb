{
 "cells": [
  {
   "cell_type": "markdown",
   "id": "8f568813",
   "metadata": {},
   "source": [
    "# 상관분석"
   ]
  },
  {
   "cell_type": "markdown",
   "id": "43837848",
   "metadata": {},
   "source": [
    "## 피어슨 상관계수 (Pearson Correlation Coefficient)\n",
    "\n",
    "**연속형** 변수 간의 선형 관계를 측정한다.  두 변수의 공분산을 각 변수의 표준편차로 나누어 계산\n",
    "즉, **두 변수가 얼마나 함께 변하는지를 표준편차를 통해 정규화한 값**\n",
    "\n",
    "- 𝑟 = 1: 완전한 양의 상관관계\n",
    "- 𝑟 = −1: 완전한 음의 상관관계\n",
    "- 𝑟 = 0: 상관관계 없음"
   ]
  },
  {
   "cell_type": "code",
   "execution_count": 1,
   "id": "ff2281f1",
   "metadata": {},
   "outputs": [
    {
     "name": "stdout",
     "output_type": "stream",
     "text": [
      "피어슨 상관계수: 0.99\n",
      "p-값: 0.0006\n"
     ]
    }
   ],
   "source": [
    "import pandas as pd\n",
    "from scipy.stats import pearsonr\n",
    "\n",
    "# 예시 데이터\n",
    "data = {\n",
    "    'height': [160, 165, 170, 175, 180],\n",
    "    'weight': [50, 55, 65, 70, 80]\n",
    "}\n",
    "df = pd.DataFrame(data)\n",
    "\n",
    "# 피어슨 상관계수 계산\n",
    "corr, p_value = pearsonr(df['height'], df['weight'])\n",
    "\n",
    "print(f\"피어슨 상관계수: {corr:.2f}\")\n",
    "print(f\"p-값: {p_value:.4f}\")\n"
   ]
  },
  {
   "cell_type": "markdown",
   "id": "65492cc6",
   "metadata": {},
   "source": [
    "## 스피어만 상관계수 (Spearman's Rank Correlation Coefficient)\n",
    "\n",
    "**순위형** 변수 간의 관계 측정한다. 비선형 관계일 경우에도 사용 가능하다.\n",
    "각 변수의 순위를 매긴 후, 그 순위들 간의 상관계수를 계산 한다.\n",
    "\n",
    "- 𝑟𝑠 = 1: 완전한 양의 상관관계\n",
    "- 𝑟𝑠 = −1: 완전한 음의 상관관계\n",
    "- 𝑟𝑠 = 0: 상관관계 없음\n",
    "\n",
    "비선형 관계와 이상치에 민감하지 않지만, 데이터의 순위 정보만 사용하여 정보 손실이 발생할 수 있음 (원래 데이터의 크기 정보 등)\n",
    "\n",
    "예시: 학생 성적 순위와 스포츠 성적 순위 간의 관계."
   ]
  },
  {
   "cell_type": "code",
   "execution_count": 2,
   "id": "32597949",
   "metadata": {},
   "outputs": [
    {
     "name": "stdout",
     "output_type": "stream",
     "text": [
      "스피어만 상관계수: 0.300\n",
      "p-value: 0.6238\n"
     ]
    }
   ],
   "source": [
    "import pandas as pd\n",
    "from scipy.stats import spearmanr\n",
    "\n",
    "# 데이터프레임 구성\n",
    "data = {\n",
    "    'student': ['A', 'B', 'C', 'D', 'E'],\n",
    "    'academic_rank': [1, 2, 3, 4, 5],\n",
    "    'sports_rank': [4, 2, 1, 3, 5]\n",
    "}\n",
    "df = pd.DataFrame(data)\n",
    "\n",
    "# 스피어만 상관계수 계산\n",
    "rho, pval = spearmanr(df['academic_rank'], df['sports_rank'])\n",
    "\n",
    "print(f\"스피어만 상관계수: {rho:.3f}\")\n",
    "print(f\"p-value: {pval:.4f}\")\n"
   ]
  }
 ],
 "metadata": {
  "kernelspec": {
   "display_name": "hipython",
   "language": "python",
   "name": "python3"
  },
  "language_info": {
   "codemirror_mode": {
    "name": "ipython",
    "version": 3
   },
   "file_extension": ".py",
   "mimetype": "text/x-python",
   "name": "python",
   "nbconvert_exporter": "python",
   "pygments_lexer": "ipython3",
   "version": "3.12.9"
  }
 },
 "nbformat": 4,
 "nbformat_minor": 5
}
