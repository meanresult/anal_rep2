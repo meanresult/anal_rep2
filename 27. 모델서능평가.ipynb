{
 "cells": [
  {
   "cell_type": "markdown",
   "id": "352d2ad2",
   "metadata": {},
   "source": [
    "# 분류기 만들기\n",
    "\n",
    " - 규칙 : 성별(sex) = 1 생존하지 않은 것으로 분류 "
   ]
  },
  {
   "cell_type": "code",
   "execution_count": 9,
   "id": "329ea10d",
   "metadata": {},
   "outputs": [],
   "source": [
    "from sklearn.base import BaseEstimator\n",
    "import numpy as np\n",
    "\n",
    "class MyDummyClassifier(BaseEstimator):\n",
    "    def fit(self, X, Y):\n",
    "        pass\n",
    "    def predict(self, X):\n",
    "        pred = np.zeros((X.shape[0],1)) \n",
    "        for i in range(X.shape[0]): # i는 0,1,2,3,4...x만큼 나옴 \n",
    "            if X['Sex'].iloc[i] == 1: # i번째 값이 남자면 (사망), 여자면(생존)\n",
    "                pred[i]=0  \n",
    "            else:\n",
    "                pred[i]=1\n",
    "        return pred"
   ]
  },
  {
   "cell_type": "code",
   "execution_count": 10,
   "id": "1a66a02b",
   "metadata": {},
   "outputs": [],
   "source": [
    "import pandas as pd\n",
    "from sklearn.preprocessing import LabelEncoder\n",
    "\n",
    "ti_df = pd.read_csv('data/titanic.csv')\n",
    "# ti_df.head(1)\n",
    "\n",
    "y_ti_df = ti_df['Survived']\n",
    "x_ti_df = ti_df.drop('Survived', axis=1)\n",
    "\n",
    "# Null 처리 함수\n",
    "def fillna(df):\n",
    "    df['Age'].fillna(df['Age'].mean(), inplace=True)\n",
    "    df['Cabin'].fillna('N', inplace=True)\n",
    "    df['Embarked'].fillna('N', inplace=True)\n",
    "    df['Fare'].fillna(0, inplace=True)\n",
    "    return df\n",
    "\n",
    "# 머신러닝 알고리즘에 불필요한 피처 제거\n",
    "def drop_features(df):\n",
    "    df.drop(['PassengerId', 'Name', 'Ticket'], axis=1, inplace=True)\n",
    "    return df\n",
    "\n",
    "# 레이블 인코딩 수행 함수\n",
    "def format_features(df):\n",
    "    df['Cabin'] = df['Cabin'].str[:1]\n",
    "    features = ['Cabin', 'Sex', 'Embarked']\n",
    "    for feature in features:\n",
    "        le = LabelEncoder()\n",
    "        le = le.fit(df[feature])\n",
    "        df[feature] = le.transform(df[feature])\n",
    "    return df\n",
    "\n",
    "# 앞에서 설정한 데이터 전처리 함수 호출\n",
    "def transform_features(df):\n",
    "    df = fillna(df) \n",
    "    df = drop_features(df)\n",
    "    df = format_features(df)\n",
    "    return df"
   ]
  },
  {
   "cell_type": "code",
   "execution_count": 11,
   "id": "022c6b8d",
   "metadata": {},
   "outputs": [
    {
     "name": "stderr",
     "output_type": "stream",
     "text": [
      "C:\\Users\\Admin\\AppData\\Local\\Temp\\ipykernel_12992\\2012133.py:12: FutureWarning: A value is trying to be set on a copy of a DataFrame or Series through chained assignment using an inplace method.\n",
      "The behavior will change in pandas 3.0. This inplace method will never work because the intermediate object on which we are setting values always behaves as a copy.\n",
      "\n",
      "For example, when doing 'df[col].method(value, inplace=True)', try using 'df.method({col: value}, inplace=True)' or df[col] = df[col].method(value) instead, to perform the operation inplace on the original object.\n",
      "\n",
      "\n",
      "  df['Age'].fillna(df['Age'].mean(), inplace=True)\n",
      "C:\\Users\\Admin\\AppData\\Local\\Temp\\ipykernel_12992\\2012133.py:13: FutureWarning: A value is trying to be set on a copy of a DataFrame or Series through chained assignment using an inplace method.\n",
      "The behavior will change in pandas 3.0. This inplace method will never work because the intermediate object on which we are setting values always behaves as a copy.\n",
      "\n",
      "For example, when doing 'df[col].method(value, inplace=True)', try using 'df.method({col: value}, inplace=True)' or df[col] = df[col].method(value) instead, to perform the operation inplace on the original object.\n",
      "\n",
      "\n",
      "  df['Cabin'].fillna('N', inplace=True)\n",
      "C:\\Users\\Admin\\AppData\\Local\\Temp\\ipykernel_12992\\2012133.py:14: FutureWarning: A value is trying to be set on a copy of a DataFrame or Series through chained assignment using an inplace method.\n",
      "The behavior will change in pandas 3.0. This inplace method will never work because the intermediate object on which we are setting values always behaves as a copy.\n",
      "\n",
      "For example, when doing 'df[col].method(value, inplace=True)', try using 'df.method({col: value}, inplace=True)' or df[col] = df[col].method(value) instead, to perform the operation inplace on the original object.\n",
      "\n",
      "\n",
      "  df['Embarked'].fillna('N', inplace=True)\n",
      "C:\\Users\\Admin\\AppData\\Local\\Temp\\ipykernel_12992\\2012133.py:15: FutureWarning: A value is trying to be set on a copy of a DataFrame or Series through chained assignment using an inplace method.\n",
      "The behavior will change in pandas 3.0. This inplace method will never work because the intermediate object on which we are setting values always behaves as a copy.\n",
      "\n",
      "For example, when doing 'df[col].method(value, inplace=True)', try using 'df.method({col: value}, inplace=True)' or df[col] = df[col].method(value) instead, to perform the operation inplace on the original object.\n",
      "\n",
      "\n",
      "  df['Fare'].fillna(0, inplace=True)\n"
     ]
    }
   ],
   "source": [
    "x_ti_df = transform_features(x_ti_df)"
   ]
  },
  {
   "cell_type": "code",
   "execution_count": 12,
   "id": "88322b4c",
   "metadata": {},
   "outputs": [],
   "source": [
    "from sklearn.model_selection import train_test_split\n",
    "\n",
    "x_train, x_test, y_train, y_test = train_test_split(x_ti_df,\n",
    "                                                    y_ti_df,\n",
    "                                                    test_size = 0.2,\n",
    "                                                    random_state = 0\n",
    "                                                        )"
   ]
  },
  {
   "cell_type": "code",
   "execution_count": 13,
   "id": "16e6f7ac",
   "metadata": {},
   "outputs": [],
   "source": [
    "myclf = MyDummyClassifier()\n",
    "myclf.fit(x_train,y_train)"
   ]
  },
  {
   "cell_type": "code",
   "execution_count": 14,
   "id": "4f695a7b",
   "metadata": {},
   "outputs": [
    {
     "data": {
      "text/plain": [
       "0.7877094972067039"
      ]
     },
     "execution_count": 14,
     "metadata": {},
     "output_type": "execute_result"
    }
   ],
   "source": [
    "from sklearn.metrics import accuracy_score\n",
    "\n",
    "my_pred = myclf.predict(x_test)\n",
    "accuracy_score(y_test,my_pred)"
   ]
  },
  {
   "cell_type": "markdown",
   "id": "208af9ba",
   "metadata": {},
   "source": [
    "# 혼동 행렬(Confusion matrix)"
   ]
  },
  {
   "cell_type": "code",
   "execution_count": 15,
   "id": "d4b48e25",
   "metadata": {},
   "outputs": [
    {
     "data": {
      "text/plain": [
       "array([[92, 18],\n",
       "       [20, 49]])"
      ]
     },
     "execution_count": 15,
     "metadata": {},
     "output_type": "execute_result"
    }
   ],
   "source": [
    "from sklearn.metrics import confusion_matrix\n",
    "confusion_matrix(y_test, my_pred)"
   ]
  },
  {
   "cell_type": "code",
   "execution_count": 16,
   "id": "8227750a",
   "metadata": {},
   "outputs": [
    {
     "data": {
      "text/plain": [
       "(np.float64(0.7313432835820896), np.float64(0.7101449275362319))"
      ]
     },
     "execution_count": 16,
     "metadata": {},
     "output_type": "execute_result"
    }
   ],
   "source": [
    "from sklearn.metrics import precision_score, recall_score\n",
    "precision_score(y_test, my_pred), recall_score(y_test,my_pred)\n"
   ]
  },
  {
   "cell_type": "markdown",
   "id": "82d07ba6",
   "metadata": {},
   "source": [
    "# 로지스틱회귀, 랜덤포레스트, KNN의 정밀도, 재현율 비교하기"
   ]
  },
  {
   "cell_type": "code",
   "execution_count": 17,
   "id": "3b2a8e09",
   "metadata": {},
   "outputs": [],
   "source": [
    "# df = pd.read_csv('./data/titanic.csv')\n",
    "\n",
    "# X = df[['Pclass', 'SibSp']]\n",
    "# y = df['Survived']\n",
    "\n",
    "# # 훈련, 테스트 분리\n",
    "# X_train, X_test, y_train, y_test = train_test_split(\n",
    "#     X, y,                 # 데이터프레임 기준\n",
    "#     test_size=0.2,        # 테스트셋 비율 (20%)\n",
    "#     random_state=42       # 재현 가능성 유지\n",
    "# )"
   ]
  },
  {
   "cell_type": "code",
   "execution_count": null,
   "id": "b23ac6d0",
   "metadata": {},
   "outputs": [],
   "source": [
    "from sklearn.linear_model import LogisticRegression\n",
    "from sklearn.metrics import accuracy_score\n",
    "\n",
    "ti_model = LogisticRegression(max_iter=3000)\n",
    "ti_model.fit(X_train,y_train)\n",
    "ti_pred = ti_model.predict(X_test)\n"
   ]
  },
  {
   "cell_type": "code",
   "execution_count": 52,
   "id": "f5187ae4",
   "metadata": {},
   "outputs": [
    {
     "name": "stdout",
     "output_type": "stream",
     "text": [
      "[[94 16]\n",
      " [31 38]]\n",
      " 20\n",
      "0.7374301675977654 0.7037037037037037 0.5507246376811594\n",
      "[[100  10]\n",
      " [ 23  46]]\n",
      " 20\n",
      "0.8156424581005587 0.8214285714285714 0.6666666666666666\n",
      "[[92 18]\n",
      " [16 53]]\n",
      " 20\n",
      "0.8100558659217877 0.7464788732394366 0.7681159420289855\n"
     ]
    }
   ],
   "source": [
    "from sklearn.neighbors import KNeighborsClassifier\n",
    "from sklearn.ensemble import RandomForestClassifier\n",
    "\n",
    "def get_clf_eval(y_test, pred):\n",
    "    confusion = confusion_matrix(y_test, pred)\n",
    "    accuracy = accuracy_score(y_test, pred)\n",
    "    precision = precision_score(y_test, pred)\n",
    "    recall = recall_score(y_test, pred)\n",
    "\n",
    "    print(confusion)\n",
    "    print('',20)\n",
    "    print(accuracy, precision, recall)\n",
    "    \n",
    "models_sc =  {\n",
    "        'KNN':       KNeighborsClassifier(n_neighbors=5),\n",
    "        'RF' :       RandomForestClassifier(),\n",
    "        'LR' :       LogisticRegression(max_iter=3000)\n",
    "        }\n",
    "\n",
    "\n",
    "for i,n in models_sc.items():\n",
    "    n.fit(x_train,y_train)\n",
    "    pred = n.predict(x_test)\n",
    "    get_clf_eval(y_test, pred)\n"
   ]
  },
  {
   "cell_type": "code",
   "execution_count": 20,
   "id": "b5f83f7c",
   "metadata": {},
   "outputs": [
    {
     "name": "stdout",
     "output_type": "stream",
     "text": [
      "[[92 18]\n",
      " [20 49]]\n",
      " 20\n",
      "0.7877094972067039 0.7313432835820896 0.7101449275362319\n"
     ]
    }
   ],
   "source": [
    "get_clf_eval(y_test,my_pred)"
   ]
  },
  {
   "cell_type": "code",
   "execution_count": 21,
   "id": "6486783b",
   "metadata": {},
   "outputs": [
    {
     "name": "stdout",
     "output_type": "stream",
     "text": [
      "[[86 24]\n",
      " [13 56]]\n",
      " 20\n",
      "0.7932960893854749 0.7 0.8115942028985508\n"
     ]
    }
   ],
   "source": [
    "from sklearn.linear_model import LogisticRegression\n",
    "\n",
    "lr_clf = LogisticRegression(max_iter=3000)\n",
    "lr_clf.fit(x_train, y_train)\n",
    "\n",
    "pred_proba =  lr_clf.predict_proba(x_test)\n",
    "pos_proba = pred_proba[:,1] #양성클래스일 확률\n",
    "\n",
    "threshold = 0.4 #임계치\n",
    "custom_proba = (pos_proba>=threshold).astype(int) #임계치보다 크면 1\n",
    "confusion_matrix(y_test, custom_proba)\n",
    "get_clf_eval(y_test, custom_proba)"
   ]
  },
  {
   "cell_type": "markdown",
   "id": "547d145f",
   "metadata": {},
   "source": [
    "# 정밀도와 재현율의 변화\n",
    "\n",
    "정밀도와 재현율의 불균형이 심할 때,\n",
    "혹은 비지니스 요구사항이 있을 때\n",
    "임계치를 조정해야 한다\n",
    "\n",
    "임계치를 낮추면, 정밀도는 낮아지고, 재현율은 올라간다\n",
    "\n"
   ]
  },
  {
   "cell_type": "code",
   "execution_count": 2,
   "id": "8a525bc6",
   "metadata": {},
   "outputs": [
    {
     "ename": "NameError",
     "evalue": "name 'y_test' is not defined",
     "output_type": "error",
     "traceback": [
      "\u001b[1;31m---------------------------------------------------------------------------\u001b[0m",
      "\u001b[1;31mNameError\u001b[0m                                 Traceback (most recent call last)",
      "Cell \u001b[1;32mIn[2], line 2\u001b[0m\n\u001b[0;32m      1\u001b[0m \u001b[38;5;28;01mfrom\u001b[39;00m\u001b[38;5;250m \u001b[39m\u001b[38;5;21;01msklearn\u001b[39;00m\u001b[38;5;21;01m.\u001b[39;00m\u001b[38;5;21;01mmetrics\u001b[39;00m\u001b[38;5;250m \u001b[39m\u001b[38;5;28;01mimport\u001b[39;00m f1_score, classification_report\n\u001b[1;32m----> 2\u001b[0m f1_score(\u001b[43my_test\u001b[49m,pred) \u001b[38;5;66;03m#정밀도와 재현율의 평균\u001b[39;00m\n",
      "\u001b[1;31mNameError\u001b[0m: name 'y_test' is not defined"
     ]
    }
   ],
   "source": [
    "from sklearn.metrics import f1_score, classification_report\n",
    "f1_score(y_test,pred) #정밀도와 재현율의 평균"
   ]
  },
  {
   "cell_type": "code",
   "execution_count": 36,
   "id": "645490c2",
   "metadata": {},
   "outputs": [
    {
     "name": "stdout",
     "output_type": "stream",
     "text": [
      "              precision    recall  f1-score   support\n",
      "\n",
      "           0       0.87      0.78      0.82       110\n",
      "           1       0.70      0.81      0.75        69\n",
      "\n",
      "    accuracy                           0.79       179\n",
      "   macro avg       0.78      0.80      0.79       179\n",
      "weighted avg       0.80      0.79      0.80       179\n",
      "\n"
     ]
    }
   ],
   "source": [
    "print(classification_report(y_test, custom_proba))"
   ]
  },
  {
   "cell_type": "code",
   "execution_count": 30,
   "id": "be5dbd20",
   "metadata": {},
   "outputs": [
    {
     "data": {
      "text/plain": [
       "1   -2.593416\n",
       "0   -0.901628\n",
       "3   -0.368137\n",
       "7   -0.107352\n",
       "4   -0.059052\n",
       "6   -0.058762\n",
       "2   -0.042756\n",
       "5    0.001286\n",
       "dtype: float64"
      ]
     },
     "execution_count": 30,
     "metadata": {},
     "output_type": "execute_result"
    }
   ],
   "source": [
    "import pandas as pd\n",
    "pd.Series(lr_clf.coef_[0]).sort_values()"
   ]
  },
  {
   "cell_type": "markdown",
   "id": "81fb87d0",
   "metadata": {},
   "source": [
    "# 복습"
   ]
  },
  {
   "cell_type": "code",
   "execution_count": 26,
   "id": "29611c23",
   "metadata": {},
   "outputs": [
    {
     "data": {
      "text/html": [
       "<div>\n",
       "<style scoped>\n",
       "    .dataframe tbody tr th:only-of-type {\n",
       "        vertical-align: middle;\n",
       "    }\n",
       "\n",
       "    .dataframe tbody tr th {\n",
       "        vertical-align: top;\n",
       "    }\n",
       "\n",
       "    .dataframe thead th {\n",
       "        text-align: right;\n",
       "    }\n",
       "</style>\n",
       "<table border=\"1\" class=\"dataframe\">\n",
       "  <thead>\n",
       "    <tr style=\"text-align: right;\">\n",
       "      <th></th>\n",
       "      <th>sepal length (cm)</th>\n",
       "      <th>sepal width (cm)</th>\n",
       "      <th>petal length (cm)</th>\n",
       "      <th>petal width (cm)</th>\n",
       "      <th>label</th>\n",
       "    </tr>\n",
       "  </thead>\n",
       "  <tbody>\n",
       "    <tr>\n",
       "      <th>0</th>\n",
       "      <td>5.1</td>\n",
       "      <td>3.5</td>\n",
       "      <td>1.4</td>\n",
       "      <td>0.2</td>\n",
       "      <td>0</td>\n",
       "    </tr>\n",
       "    <tr>\n",
       "      <th>1</th>\n",
       "      <td>4.9</td>\n",
       "      <td>3.0</td>\n",
       "      <td>1.4</td>\n",
       "      <td>0.2</td>\n",
       "      <td>0</td>\n",
       "    </tr>\n",
       "    <tr>\n",
       "      <th>2</th>\n",
       "      <td>4.7</td>\n",
       "      <td>3.2</td>\n",
       "      <td>1.3</td>\n",
       "      <td>0.2</td>\n",
       "      <td>0</td>\n",
       "    </tr>\n",
       "    <tr>\n",
       "      <th>3</th>\n",
       "      <td>4.6</td>\n",
       "      <td>3.1</td>\n",
       "      <td>1.5</td>\n",
       "      <td>0.2</td>\n",
       "      <td>0</td>\n",
       "    </tr>\n",
       "    <tr>\n",
       "      <th>4</th>\n",
       "      <td>5.0</td>\n",
       "      <td>3.6</td>\n",
       "      <td>1.4</td>\n",
       "      <td>0.2</td>\n",
       "      <td>0</td>\n",
       "    </tr>\n",
       "    <tr>\n",
       "      <th>...</th>\n",
       "      <td>...</td>\n",
       "      <td>...</td>\n",
       "      <td>...</td>\n",
       "      <td>...</td>\n",
       "      <td>...</td>\n",
       "    </tr>\n",
       "    <tr>\n",
       "      <th>145</th>\n",
       "      <td>6.7</td>\n",
       "      <td>3.0</td>\n",
       "      <td>5.2</td>\n",
       "      <td>2.3</td>\n",
       "      <td>2</td>\n",
       "    </tr>\n",
       "    <tr>\n",
       "      <th>146</th>\n",
       "      <td>6.3</td>\n",
       "      <td>2.5</td>\n",
       "      <td>5.0</td>\n",
       "      <td>1.9</td>\n",
       "      <td>2</td>\n",
       "    </tr>\n",
       "    <tr>\n",
       "      <th>147</th>\n",
       "      <td>6.5</td>\n",
       "      <td>3.0</td>\n",
       "      <td>5.2</td>\n",
       "      <td>2.0</td>\n",
       "      <td>2</td>\n",
       "    </tr>\n",
       "    <tr>\n",
       "      <th>148</th>\n",
       "      <td>6.2</td>\n",
       "      <td>3.4</td>\n",
       "      <td>5.4</td>\n",
       "      <td>2.3</td>\n",
       "      <td>2</td>\n",
       "    </tr>\n",
       "    <tr>\n",
       "      <th>149</th>\n",
       "      <td>5.9</td>\n",
       "      <td>3.0</td>\n",
       "      <td>5.1</td>\n",
       "      <td>1.8</td>\n",
       "      <td>2</td>\n",
       "    </tr>\n",
       "  </tbody>\n",
       "</table>\n",
       "<p>150 rows × 5 columns</p>\n",
       "</div>"
      ],
      "text/plain": [
       "     sepal length (cm)  sepal width (cm)  ...  petal width (cm)  label\n",
       "0                  5.1               3.5  ...               0.2      0\n",
       "1                  4.9               3.0  ...               0.2      0\n",
       "2                  4.7               3.2  ...               0.2      0\n",
       "3                  4.6               3.1  ...               0.2      0\n",
       "4                  5.0               3.6  ...               0.2      0\n",
       "..                 ...               ...  ...               ...    ...\n",
       "145                6.7               3.0  ...               2.3      2\n",
       "146                6.3               2.5  ...               1.9      2\n",
       "147                6.5               3.0  ...               2.0      2\n",
       "148                6.2               3.4  ...               2.3      2\n",
       "149                5.9               3.0  ...               1.8      2\n",
       "\n",
       "[150 rows x 5 columns]"
      ]
     },
     "execution_count": 26,
     "metadata": {},
     "output_type": "execute_result"
    }
   ],
   "source": [
    "from sklearn.datasets import load_iris\n",
    "import pandas as pd\n",
    "from sklearn.linear_model import LogisticRegression\n",
    "from sklearn.neighbors import KNeighborsClassifier\n",
    "from sklearn.ensemble import RandomForestClassifier\n",
    "\n",
    "iris = load_iris()\n",
    "iris_df = pd.DataFrame(data = iris.data, columns= iris.feature_names)\n",
    "iris_df['label'] = iris.target\n",
    "iris_df"
   ]
  },
  {
   "cell_type": "code",
   "execution_count": 13,
   "id": "e99dbbdd",
   "metadata": {},
   "outputs": [],
   "source": [
    "from sklearn.model_selection import train_test_split\n",
    "\n",
    "ir_xtrain, ir_xtest, ir_ytrain, ir_ytest = train_test_split(iris.data,\n",
    "                                                            iris.target,\n",
    "                                                            test_size=0.2,\n",
    "                                                            random_state= 30)"
   ]
  },
  {
   "cell_type": "code",
   "execution_count": 21,
   "id": "3e91a26c",
   "metadata": {},
   "outputs": [
    {
     "name": "stdout",
     "output_type": "stream",
     "text": [
      "acc = 0.9666666666666667\n"
     ]
    }
   ],
   "source": [
    "from sklearn.linear_model import LogisticRegression\n",
    "from sklearn.metrics import accuracy_score\n",
    "\n",
    "ir_model = LogisticRegression()\n",
    "ir_model.fit(ir_xtrain, ir_ytrain)\n",
    "ir_pred = ir_model.predict(ir_xtest)\n",
    "acc = accuracy_score(ir_ytest, ir_pred)\n",
    "print(f'acc = {acc}')"
   ]
  },
  {
   "cell_type": "code",
   "execution_count": 37,
   "id": "ab4c2319",
   "metadata": {},
   "outputs": [
    {
     "name": "stdout",
     "output_type": "stream",
     "text": [
      "knn모델의 정확도 :0.9333333333333333\n",
      "RF모델의 정확도 :0.9333333333333333\n",
      "LR모델의 정확도 :0.9666666666666667\n"
     ]
    }
   ],
   "source": [
    "model_zip = {\n",
    "             'knn'  : KNeighborsClassifier(n_neighbors=5),\n",
    "             'RF'   : RandomForestClassifier(),\n",
    "             'LR'   : LogisticRegression(max_iter=3000)\n",
    "}\n",
    "\n",
    "for name, model in model_zip.items():\n",
    "    model.fit(ir_xtrain,ir_ytrain)\n",
    "    zi_pred = model.predict(ir_xtest)\n",
    "    acc = accuracy_score(ir_ytest, zi_pred)\n",
    "    print(f'{name}모델의 정확도 :{acc}')\n",
    "    "
   ]
  },
  {
   "cell_type": "code",
   "execution_count": 39,
   "id": "7bed28fc",
   "metadata": {},
   "outputs": [],
   "source": [
    "# 스케일링\n",
    "\n",
    "from sklearn.preprocessing import StandardScaler\n",
    "scaler = StandardScaler()\n",
    "scaler.fit(ir_xtrain)\n",
    "ir_trscaled = scaler.transform(ir_xtrain)\n",
    "ir_txscaled = scaler.transform(ir_xtest)\n"
   ]
  },
  {
   "cell_type": "code",
   "execution_count": 40,
   "id": "4eb16974",
   "metadata": {},
   "outputs": [
    {
     "name": "stdout",
     "output_type": "stream",
     "text": [
      "knn모델의 정확도 :0.9333333333333333\n",
      "RF모델의 정확도 :0.9333333333333333\n",
      "LR모델의 정확도 :0.9333333333333333\n"
     ]
    }
   ],
   "source": [
    "model_zip = {\n",
    "             'knn'  : KNeighborsClassifier(n_neighbors=5),\n",
    "             'RF'   : RandomForestClassifier(),\n",
    "             'LR'   : LogisticRegression(max_iter=3000)\n",
    "}\n",
    "\n",
    "for name, model in model_zip.items():\n",
    "    model.fit(ir_scaled,ir_ytrain)\n",
    "    sc_zi_pred = model.predict(ir_txscaled)\n",
    "    acc = accuracy_score(ir_ytest, sc_zi_pred)\n",
    "    print(f'{name}모델의 정확도 :{acc}')"
   ]
  }
 ],
 "metadata": {
  "kernelspec": {
   "display_name": "hi_ml_env",
   "language": "python",
   "name": "python3"
  },
  "language_info": {
   "codemirror_mode": {
    "name": "ipython",
    "version": 3
   },
   "file_extension": ".py",
   "mimetype": "text/x-python",
   "name": "python",
   "nbconvert_exporter": "python",
   "pygments_lexer": "ipython3",
   "version": "3.10.16"
  }
 },
 "nbformat": 4,
 "nbformat_minor": 5
}
